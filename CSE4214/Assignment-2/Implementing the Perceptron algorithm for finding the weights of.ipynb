{
  "nbformat": 4,
  "nbformat_minor": 0,
  "metadata": {
    "colab": {
      "name": "170104004_Assignment2.ipynb",
      "provenance": [],
      "collapsed_sections": []
    },
    "kernelspec": {
      "name": "python3",
      "display_name": "Python 3"
    },
    "language_info": {
      "name": "python"
    }
  },
  "cells": [
    {
      "cell_type": "markdown",
      "metadata": {
        "id": "yviDe7S2WyiU"
      },
      "source": [
        "\n",
        "Course Name: Pattern Recognition Lab\n",
        "\n",
        "Course No: CSE 4214\n",
        "\n",
        "Experiment Name: Implementing the Perceptron algorithm for finding the weights of a Linear Discriminant function\n",
        "\n",
        "Name: Umme Habiba, Section: A1, ID: 170104004"
      ]
    },
    {
      "cell_type": "code",
      "metadata": {
        "id": "FA2-JNIcqcpp"
      },
      "source": [
        "import numpy as np\n",
        "import pandas as pd\n",
        "import matplotlib.pyplot as plt\n",
        "import random"
      ],
      "execution_count": 148,
      "outputs": []
    },
    {
      "cell_type": "markdown",
      "metadata": {
        "id": "9Lz1SLpxX4JU"
      },
      "source": [
        "1. Take input from “train.txt” file. Plot all sample points from both classes, but samples\n",
        "from the same class should have the same color and marker. Observe if these two\n",
        "classes can be separated with a linear boundary."
      ]
    },
    {
      "cell_type": "code",
      "metadata": {
        "colab": {
          "base_uri": "https://localhost:8080/",
          "height": 233
        },
        "id": "D0Ms_1pns6Vy",
        "outputId": "95453260-d5d2-41cc-916d-894c4c9f9722"
      },
      "source": [
        "train_df = pd.read_csv('/content/drive/MyDrive/CSE4214/Assignment2/train-perceptron.txt',sep= ' ',names=[\"x1\",\"x2\",\"Y\"])\n",
        "train_df"
      ],
      "execution_count": 149,
      "outputs": [
        {
          "output_type": "execute_result",
          "data": {
            "text/html": [
              "<div>\n",
              "<style scoped>\n",
              "    .dataframe tbody tr th:only-of-type {\n",
              "        vertical-align: middle;\n",
              "    }\n",
              "\n",
              "    .dataframe tbody tr th {\n",
              "        vertical-align: top;\n",
              "    }\n",
              "\n",
              "    .dataframe thead th {\n",
              "        text-align: right;\n",
              "    }\n",
              "</style>\n",
              "<table border=\"1\" class=\"dataframe\">\n",
              "  <thead>\n",
              "    <tr style=\"text-align: right;\">\n",
              "      <th></th>\n",
              "      <th>x1</th>\n",
              "      <th>x2</th>\n",
              "      <th>Y</th>\n",
              "    </tr>\n",
              "  </thead>\n",
              "  <tbody>\n",
              "    <tr>\n",
              "      <th>0</th>\n",
              "      <td>1</td>\n",
              "      <td>1.0</td>\n",
              "      <td>1</td>\n",
              "    </tr>\n",
              "    <tr>\n",
              "      <th>1</th>\n",
              "      <td>1</td>\n",
              "      <td>-1.0</td>\n",
              "      <td>1</td>\n",
              "    </tr>\n",
              "    <tr>\n",
              "      <th>2</th>\n",
              "      <td>2</td>\n",
              "      <td>2.5</td>\n",
              "      <td>2</td>\n",
              "    </tr>\n",
              "    <tr>\n",
              "      <th>3</th>\n",
              "      <td>0</td>\n",
              "      <td>2.0</td>\n",
              "      <td>2</td>\n",
              "    </tr>\n",
              "    <tr>\n",
              "      <th>4</th>\n",
              "      <td>2</td>\n",
              "      <td>3.0</td>\n",
              "      <td>2</td>\n",
              "    </tr>\n",
              "    <tr>\n",
              "      <th>5</th>\n",
              "      <td>4</td>\n",
              "      <td>5.0</td>\n",
              "      <td>1</td>\n",
              "    </tr>\n",
              "  </tbody>\n",
              "</table>\n",
              "</div>"
            ],
            "text/plain": [
              "   x1   x2  Y\n",
              "0   1  1.0  1\n",
              "1   1 -1.0  1\n",
              "2   2  2.5  2\n",
              "3   0  2.0  2\n",
              "4   2  3.0  2\n",
              "5   4  5.0  1"
            ]
          },
          "metadata": {
            "tags": []
          },
          "execution_count": 149
        }
      ]
    },
    {
      "cell_type": "code",
      "metadata": {
        "id": "DjtWYcAGX9Zl"
      },
      "source": [
        "#variables\n",
        "omega_one=[]\n",
        "omega_two=[]\n",
        "omega_one_phi=[]\n",
        "omega_two_phi=[]\n",
        "lr = np.arange(0.1,1.1,0.1)"
      ],
      "execution_count": 150,
      "outputs": []
    },
    {
      "cell_type": "code",
      "metadata": {
        "id": "o-ut68KXYaut"
      },
      "source": [
        "#training data separation\n",
        "def class_separation(df):\n",
        "  for i in range(0,len(df)):  ##if the class value is 1 then store it in class 1 else class 2\n",
        "    li=[]\n",
        "    if df['Y'][i]==1:\n",
        "      li=df['x1'][i],df['x2'][i]\n",
        "      omega_one.append(li)\n",
        "    elif df['Y'][i]==2:\n",
        "      li=df['x1'][i],df['x2'][i]\n",
        "      omega_two.append(li)"
      ],
      "execution_count": 151,
      "outputs": []
    },
    {
      "cell_type": "code",
      "metadata": {
        "id": "RHgVRxhtYgPc"
      },
      "source": [
        "class_separation(train_df)"
      ],
      "execution_count": 152,
      "outputs": []
    },
    {
      "cell_type": "code",
      "metadata": {
        "colab": {
          "base_uri": "https://localhost:8080/",
          "height": 336
        },
        "id": "_uMd9999YkV1",
        "outputId": "5efde768-5608-4b3e-d702-6231c1162be5"
      },
      "source": [
        "fig, ax = plt.subplots()\n",
        "fig.set_figheight(5)\n",
        "fig.set_figwidth(10)\n",
        "ax.set_title('Plot training Data of Class One and Class Two')\n",
        "plt.plot(*zip(*omega_one),'ro',label=\"Train Class 1\")\n",
        "plt.plot(*zip(*omega_two),\"k*\",label=\"Train Class 2\")\n",
        "plt.legend(loc=\"upper left\",shadow=False, fontsize='small',labelspacing=0.5)\n",
        "plt.show()\n",
        "\n"
      ],
      "execution_count": 153,
      "outputs": [
        {
          "output_type": "display_data",
          "data": {
            "image/png": "[encoded data removed]",
            "text/plain": [
              "<Figure size 720x360 with 1 Axes>"
            ]
          },
          "metadata": {
            "tags": [],
            "needs_background": "light"
          }
        }
      ]
    },
    {
      "cell_type": "code",
      "metadata": {
        "colab": {
          "base_uri": "https://localhost:8080/",
          "height": 336
        },
        "id": "qElA8_lFYn8E",
        "outputId": "29efd63e-798e-4e57-ad95-2ac2d4f2d6ee"
      },
      "source": [
        "minimum=min(min(train_df[\"x1\"]),min(train_df[\"x2\"]))\n",
        "maximum=max(max(train_df[\"x1\"]),max(train_df[\"x2\"]))\n",
        "x=[]\n",
        "y=[]\n",
        "m=0.5\n",
        "c=2\n",
        "for i in range(int(minimum),int(maximum+1)):\n",
        "  x.append(i)\n",
        "  y.append(m*i+c)\n",
        "fig, ax = plt.subplots()\n",
        "fig.set_figheight(5)\n",
        "fig.set_figwidth(10)\n",
        "ax.set_title('Plot Class One and Class Two with Linear Decision Boundary')\n",
        "plt.plot(*zip(*omega_one),'ro',label=\"Train Class 1\")\n",
        "plt.plot(*zip(*omega_two),\"k*\",label=\"Train Class 2\")\n",
        "plt.legend(loc=\"upper left\",shadow=False, fontsize='small',labelspacing=0.5)\n",
        "ax.plot(x,y,\"--\",label=' Decision Boundary',color=\"b\")\n",
        "plt.show()"
      ],
      "execution_count": 154,
      "outputs": [
        {
          "output_type": "display_data",
          "data": {
            "image/png": "[encoded data removed]",
            "text/plain": [
              "<Figure size 720x360 with 1 Axes>"
            ]
          },
          "metadata": {
            "tags": [],
            "needs_background": "light"
          }
        }
      ]
    },
    {
      "cell_type": "markdown",
      "metadata": {
        "id": "IN1IB8e_evHQ"
      },
      "source": [
        "2. Consider the case of a second order polynomial discriminant function. Generate the\n",
        "high dimensional sample points y, as discussed in the class."
      ]
    },
    {
      "cell_type": "code",
      "metadata": {
        "id": "T1ovCVVDeyu0"
      },
      "source": [
        "#Phi function\n",
        "def phi(omega_value):\n",
        "  return [pow(omega_value[0],2),pow(omega_value[1],2),omega_value[0]*omega_value[1],omega_value[0],omega_value[1],1]"
      ],
      "execution_count": 155,
      "outputs": []
    },
    {
      "cell_type": "code",
      "metadata": {
        "colab": {
          "base_uri": "https://localhost:8080/"
        },
        "id": "e4GU5-qCe-zG",
        "outputId": "2dae2150-f1ad-4d58-a317-abe28a951d08"
      },
      "source": [
        "#Generate the high dimensional sample points\n",
        "for omega in omega_one:\n",
        "  omega_one_phi.append(phi(omega))\n",
        "for omega in omega_two:\n",
        "  omega_two_phi.append(phi(omega))\n",
        "normalize_omega_two=np.array(omega_two_phi).dot(-1)\n",
        "phi = np.concatenate((np.array(omega_one_phi),normalize_omega_two))\n",
        "phi"
      ],
      "execution_count": 156,
      "outputs": [
        {
          "output_type": "execute_result",
          "data": {
            "text/plain": [
              "array([[ 1.  ,  1.  ,  1.  ,  1.  ,  1.  ,  1.  ],\n",
              "       [ 1.  ,  1.  , -1.  ,  1.  , -1.  ,  1.  ],\n",
              "       [16.  , 25.  , 20.  ,  4.  ,  5.  ,  1.  ],\n",
              "       [-4.  , -6.25, -5.  , -2.  , -2.5 , -1.  ],\n",
              "       [ 0.  , -4.  ,  0.  ,  0.  , -2.  , -1.  ],\n",
              "       [-4.  , -9.  , -6.  , -2.  , -3.  , -1.  ]])"
            ]
          },
          "metadata": {
            "tags": []
          },
          "execution_count": 156
        }
      ]
    },
    {
      "cell_type": "markdown",
      "metadata": {
        "id": "AP68H-7qkgiW"
      },
      "source": [
        "3.  Use Perceptron Algorithm (both one at a time and many at a time) for finding the weightcoefficients of the discriminant function (i.e., values of w) boundary for your linear classifier in task 2."
      ]
    },
    {
      "cell_type": "markdown",
      "metadata": {
        "id": "r7qrQb1Yht8F"
      },
      "source": [
        "Many at a Time"
      ]
    },
    {
      "cell_type": "code",
      "metadata": {
        "id": "9EKe9nfffBoN"
      },
      "source": [
        "def batch_update(learning_rate,weights):\n",
        "  correctly_classified=False\n",
        "  miss_classified=0\n",
        "  iteration=0\n",
        "  while correctly_classified==False and iteration<=200:\n",
        "    miss_classified = 0\n",
        "    sum_weights=np.zeros(6)\n",
        "    for i in range(len(phi)):\n",
        "      if (np.dot(weights,phi[i])) <= 0:\n",
        "        sum_weights = np.add(sum_weights , phi[i])\n",
        "        miss_classified +=1\n",
        "    if miss_classified == 0:\n",
        "      correctly_classified = True\n",
        "    else:\n",
        "      correctly_classified=False\n",
        "      weights = weights + np.dot(learning_rate ,sum_weights)\n",
        "    iteration += 1\n",
        "  return iteration"
      ],
      "execution_count": 157,
      "outputs": []
    },
    {
      "cell_type": "markdown",
      "metadata": {
        "id": "IC_CMZ8FiF6u"
      },
      "source": [
        "One at a time"
      ]
    },
    {
      "cell_type": "code",
      "metadata": {
        "id": "WpwBMV-QfMil"
      },
      "source": [
        "def single_update(learning_rate,weights):\n",
        "  correctly_classified=False\n",
        "  iteration=0\n",
        "  while correctly_classified==False and iteration<=200:\n",
        "    miss_classified=0\n",
        "    for i in range(len(phi)):\n",
        "      if (np.dot(weights,phi[i])) <= 0:\n",
        "        weights = weights + np.dot(learning_rate,phi[i])\n",
        "        miss_classified +=1\n",
        "    if miss_classified == 0:\n",
        "      correctly_classified = True\n",
        "    iteration += 1\n",
        "  return iteration"
      ],
      "execution_count": 158,
      "outputs": []
    },
    {
      "cell_type": "markdown",
      "metadata": {
        "id": "-aKuyxHhz9kW"
      },
      "source": [
        "4. Three initial weights have to be used (all one, all zero, randomly initialized with seed fixed). For all of these three cases vary the learning rate between 0.1 and 1 with step size 0.1. Create a table which should contain your learning rate, number of iterations for one at a time and batch Perceptron for all of the three initial weights. You also have to create a bar chart visualizing your table data."
      ]
    },
    {
      "cell_type": "code",
      "metadata": {
        "id": "LmovxgGZfR6d"
      },
      "source": [
        "# table show\n",
        "def table_show(learning_rate,many_at_a_time,one_at_a_time):\n",
        "  dict = {'Learning rate': learning_rate,'Many at a time':many_at_a_time,'One at a time':one_at_a_time}\n",
        "  dataframe = pd.DataFrame(dict)\n",
        "\n",
        "  print(dataframe.to_string(index=False))"
      ],
      "execution_count": 159,
      "outputs": []
    },
    {
      "cell_type": "code",
      "metadata": {
        "id": "bRlmSyIvfUXG"
      },
      "source": [
        "#perception comparision\n",
        "def perception_comparison(learning_rate, many_at_a_time,one_at_a_time):\n",
        "  labels=[]\n",
        "  for i in learning_rate:\n",
        "    labels.append(str(round(i,2)))\n",
        "  x = np.arange(len(lr))\n",
        "  width = 0.35\n",
        "  fig, ax = plt.subplots()\n",
        "  fig.set_size_inches(8,6)\n",
        "  ax.bar(x - width/2, one_at_a_time, width, label='One at a time')\n",
        "  ax.bar(x + width/2, many_at_a_time, width, label='Many at a time')\n",
        "  ax.set_xlabel('Learning rate')\n",
        "  ax.set_ylabel('No of iterations')\n",
        "  ax.set_title('Perception comparison')\n",
        "  ax.set_xticks(x)\n",
        "  ax.set_xticklabels(labels)\n",
        "  ax.legend()\n",
        "  plt.show()"
      ],
      "execution_count": 173,
      "outputs": []
    },
    {
      "cell_type": "markdown",
      "metadata": {
        "id": "tM5Yxkvpk0Ht"
      },
      "source": [
        "All Weights Zero"
      ]
    },
    {
      "cell_type": "code",
      "metadata": {
        "colab": {
          "base_uri": "https://localhost:8080/"
        },
        "id": "aMSlKIFcfVp9",
        "outputId": "d1881fcc-14f1-40e3-f4bf-51098dcf10df"
      },
      "source": [
        "single_iter=[]\n",
        "weights=np.zeros(6)\n",
        "for i in lr:\n",
        "  iter= single_update(i,weights)\n",
        "  single_iter.append(iter)\n",
        "batch_iter=[]\n",
        "for i in lr:\n",
        "  iter= batch_update(i,weights)\n",
        "  batch_iter.append(iter)\n",
        "table_show(lr,batch_iter,single_iter)\n"
      ],
      "execution_count": 174,
      "outputs": [
        {
          "output_type": "stream",
          "text": [
            " Learning rate  Many at a time  One at a time\n",
            "           0.1             105             94\n",
            "           0.2             105             94\n",
            "           0.3              92             94\n",
            "           0.4             105             94\n",
            "           0.5              92             94\n",
            "           0.6             105             94\n",
            "           0.7             105             94\n",
            "           0.8             105             94\n",
            "           0.9             105             94\n",
            "           1.0              92             94\n"
          ],
          "name": "stdout"
        }
      ]
    },
    {
      "cell_type": "code",
      "metadata": {
        "colab": {
          "base_uri": "https://localhost:8080/",
          "height": 404
        },
        "id": "0MCBjZQ-liC9",
        "outputId": "c76d5b95-f3bb-4117-dc0b-a838f5a5fd87"
      },
      "source": [
        "perception_comparison(lr,batch_iter,single_iter)"
      ],
      "execution_count": 175,
      "outputs": [
        {
          "output_type": "display_data",
          "data": {
            "image/png": "[encoded data removed]",
            "text/plain": [
              "<Figure size 576x432 with 1 Axes>"
            ]
          },
          "metadata": {
            "tags": [],
            "needs_background": "light"
          }
        }
      ]
    },
    {
      "cell_type": "markdown",
      "metadata": {
        "id": "lY-oNhRBk4gm"
      },
      "source": [
        "All Weights one"
      ]
    },
    {
      "cell_type": "code",
      "metadata": {
        "colab": {
          "base_uri": "https://localhost:8080/"
        },
        "id": "kJKSjX-jfa6E",
        "outputId": "7475a734-0b13-4fdb-af44-696b3cf4222e"
      },
      "source": [
        "single_iter=[]\n",
        "weights=np.ones(6)\n",
        "for i in lr:\n",
        "  iter= single_update(i,weights)\n",
        "  single_iter.append(iter)\n",
        "batch_iter=[]\n",
        "for i in lr:\n",
        "  iter= batch_update(i,weights)\n",
        "  batch_iter.append(iter)\n",
        "table_show(lr,batch_iter,single_iter)"
      ],
      "execution_count": 176,
      "outputs": [
        {
          "output_type": "stream",
          "text": [
            " Learning rate  Many at a time  One at a time\n",
            "           0.1             102              6\n",
            "           0.2             104             92\n",
            "           0.3              91            104\n",
            "           0.4             116            106\n",
            "           0.5             105             93\n",
            "           0.6             114             93\n",
            "           0.7              91            108\n",
            "           0.8              91            115\n",
            "           0.9             105             94\n",
            "           1.0              93             94\n"
          ],
          "name": "stdout"
        }
      ]
    },
    {
      "cell_type": "code",
      "metadata": {
        "colab": {
          "base_uri": "https://localhost:8080/",
          "height": 404
        },
        "id": "FMDFtPVflcEm",
        "outputId": "b071df89-55fa-419f-fd84-d8a25a19dda2"
      },
      "source": [
        "perception_comparison(lr,batch_iter,single_iter)"
      ],
      "execution_count": 177,
      "outputs": [
        {
          "output_type": "display_data",
          "data": {
            "image/png": "[encoded data removed]",
            "text/plain": [
              "<Figure size 576x432 with 1 Axes>"
            ]
          },
          "metadata": {
            "tags": [],
            "needs_background": "light"
          }
        }
      ]
    },
    {
      "cell_type": "markdown",
      "metadata": {
        "id": "U38cQB1bk9Pm"
      },
      "source": [
        "All Weights random"
      ]
    },
    {
      "cell_type": "code",
      "metadata": {
        "colab": {
          "base_uri": "https://localhost:8080/"
        },
        "id": "Z0-SQd1ZfeeF",
        "outputId": "0a562034-86f4-4fbf-a9ac-a91b4ba0dda2"
      },
      "source": [
        "single_iter=[]\n",
        "weights=[]\n",
        "np.random.seed(6)\n",
        "for i in range(6):\n",
        "  weights.append(random.randint(0, 6))\n",
        "for i in lr:\n",
        "  iter= single_update(i,weights)\n",
        "  single_iter.append(iter)\n",
        "batch_iter=[]\n",
        "for i in lr:\n",
        "  iter= batch_update(i,weights)\n",
        "  batch_iter.append(iter)\n",
        "table_show(lr,batch_iter,single_iter)\n"
      ],
      "execution_count": 178,
      "outputs": [
        {
          "output_type": "stream",
          "text": [
            " Learning rate  Many at a time  One at a time\n",
            "           0.1              36             34\n",
            "           0.2             106             21\n",
            "           0.3             129             11\n",
            "           0.4              87            106\n",
            "           0.5             112             95\n",
            "           0.6             111            100\n",
            "           0.7              95            109\n",
            "           0.8              99             98\n",
            "           0.9              96            111\n",
            "           1.0             109             87\n"
          ],
          "name": "stdout"
        }
      ]
    },
    {
      "cell_type": "code",
      "metadata": {
        "colab": {
          "base_uri": "https://localhost:8080/",
          "height": 404
        },
        "id": "Xw-QHF-2lB49",
        "outputId": "f357bd96-e916-4101-893e-21683da27bad"
      },
      "source": [
        "perception_comparison(lr,batch_iter,single_iter)"
      ],
      "execution_count": 179,
      "outputs": [
        {
          "output_type": "display_data",
          "data": {
            "image/png": "[encoded data removed]",
            "text/plain": [
              "<Figure size 576x432 with 1 Axes>"
            ]
          },
          "metadata": {
            "tags": [],
            "needs_background": "light"
          }
        }
      ]
    },
    {
      "cell_type": "markdown",
      "metadata": {
        "id": "5Xp7_czQw_df"
      },
      "source": [
        "**4a.  In task 2, we need to take the sample points into a\n",
        "higher dimension because if it is non linear data, we cannot\n",
        "get the correct hyperplane. If the datasets are linear, then the\n",
        "decision boundary can perfectly work. But in non linear data\n",
        "the data’s are not linearly separable.Fot it, we need to take\n",
        "it to a higher dimension where it can classify correctly.To\n",
        "take the data points into higher dimension, we have used phi\n",
        "function.**"
      ]
    },
    {
      "cell_type": "markdown",
      "metadata": {
        "id": "3Ays-0etxkm2"
      },
      "source": [
        "**4b.  In each of the three initial weight cases and for each\n",
        "learning rate the number of updates the algorithm take before\n",
        "converging is given in the above portion using three tables and \n",
        "have also shown the bar chart to visualize the results.**"
      ]
    }
  ]
}