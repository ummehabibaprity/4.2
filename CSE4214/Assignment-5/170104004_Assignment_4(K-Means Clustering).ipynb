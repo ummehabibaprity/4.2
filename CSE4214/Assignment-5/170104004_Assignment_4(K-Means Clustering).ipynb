{
  "nbformat": 4,
  "nbformat_minor": 0,
  "metadata": {
    "colab": {
      "name": "170104004_Assignment-4(B).ipynb",
      "provenance": []
    },
    "kernelspec": {
      "name": "python3",
      "display_name": "Python 3"
    },
    "language_info": {
      "name": "python"
    }
  },
  "cells": [
    {
      "cell_type": "code",
      "metadata": {
        "id": "iZHhoS3dtj7m"
      },
      "source": [
        ""
      ],
      "execution_count": null,
      "outputs": []
    },
    {
      "cell_type": "markdown",
      "metadata": {
        "id": "5OQOeSpKuebC"
      },
      "source": [
        "Course Name: Pattern Recognition Lab\n",
        "\n",
        "Course No: CSE 4214\n",
        "\n",
        "Experiment Name: Implementing K-Means Clustering\n",
        "\n",
        "Name: Umme Habiba, Section: A1, ID: 170104004"
      ]
    },
    {
      "cell_type": "code",
      "metadata": {
        "id": "mYWyd4xwun4x"
      },
      "source": [
        "import numpy as np\n",
        "import pandas as pd\n",
        "import matplotlib.pyplot as plt\n",
        "import random\n",
        "random.seed(1)"
      ],
      "execution_count": 12,
      "outputs": []
    },
    {
      "cell_type": "code",
      "metadata": {
        "colab": {
          "base_uri": "https://localhost:8080/",
          "height": 423
        },
        "id": "_octeFpouuD5",
        "outputId": "8c0d43f3-9b82-4948-ec27-035aeab3ab7f"
      },
      "source": [
        "df=pd.read_csv(\"/content/drive/MyDrive/CSE4214/Assignment-5/data_k_mean.txt\", sep=\",\",header=None)\n",
        "df"
      ],
      "execution_count": 9,
      "outputs": [
        {
          "output_type": "execute_result",
          "data": {
            "text/html": [
              "<div>\n",
              "<style scoped>\n",
              "    .dataframe tbody tr th:only-of-type {\n",
              "        vertical-align: middle;\n",
              "    }\n",
              "\n",
              "    .dataframe tbody tr th {\n",
              "        vertical-align: top;\n",
              "    }\n",
              "\n",
              "    .dataframe thead th {\n",
              "        text-align: right;\n",
              "    }\n",
              "</style>\n",
              "<table border=\"1\" class=\"dataframe\">\n",
              "  <thead>\n",
              "    <tr style=\"text-align: right;\">\n",
              "      <th></th>\n",
              "      <th>0</th>\n",
              "    </tr>\n",
              "  </thead>\n",
              "  <tbody>\n",
              "    <tr>\n",
              "      <th>0</th>\n",
              "      <td>-7.87157 -4.86573</td>\n",
              "    </tr>\n",
              "    <tr>\n",
              "      <th>1</th>\n",
              "      <td>-4.76661 -6.87944</td>\n",
              "    </tr>\n",
              "    <tr>\n",
              "      <th>2</th>\n",
              "      <td>-6.67986 -5.83080</td>\n",
              "    </tr>\n",
              "    <tr>\n",
              "      <th>3</th>\n",
              "      <td>-8.93021 -4.15571</td>\n",
              "    </tr>\n",
              "    <tr>\n",
              "      <th>4</th>\n",
              "      <td>-7.91375 -4.22840</td>\n",
              "    </tr>\n",
              "    <tr>\n",
              "      <th>...</th>\n",
              "      <td>...</td>\n",
              "    </tr>\n",
              "    <tr>\n",
              "      <th>2995</th>\n",
              "      <td>-8.06037 -4.84080</td>\n",
              "    </tr>\n",
              "    <tr>\n",
              "      <th>2996</th>\n",
              "      <td>7.47328 0.37321</td>\n",
              "    </tr>\n",
              "    <tr>\n",
              "      <th>2997</th>\n",
              "      <td>6.91832 -0.32132</td>\n",
              "    </tr>\n",
              "    <tr>\n",
              "      <th>2998</th>\n",
              "      <td>-8.23828 -4.00405</td>\n",
              "    </tr>\n",
              "    <tr>\n",
              "      <th>2999</th>\n",
              "      <td>-5.75112 -5.99531</td>\n",
              "    </tr>\n",
              "  </tbody>\n",
              "</table>\n",
              "<p>3000 rows × 1 columns</p>\n",
              "</div>"
            ],
            "text/plain": [
              "                      0\n",
              "0     -7.87157 -4.86573\n",
              "1     -4.76661 -6.87944\n",
              "2     -6.67986 -5.83080\n",
              "3     -8.93021 -4.15571\n",
              "4     -7.91375 -4.22840\n",
              "...                 ...\n",
              "2995  -8.06037 -4.84080\n",
              "2996    7.47328 0.37321\n",
              "2997   6.91832 -0.32132\n",
              "2998  -8.23828 -4.00405\n",
              "2999  -5.75112 -5.99531\n",
              "\n",
              "[3000 rows x 1 columns]"
            ]
          },
          "metadata": {},
          "execution_count": 9
        }
      ]
    },
    {
      "cell_type": "code",
      "metadata": {
        "colab": {
          "base_uri": "https://localhost:8080/"
        },
        "id": "AgoKTWpIwCyq",
        "outputId": "e6889ede-4da5-4e27-e19c-6d2d7d8077bc"
      },
      "source": [
        "train_dataset = np.loadtxt('/content/drive/MyDrive/CSE4214/Assignment-5/data_k_mean.txt')\n",
        "print(train_dataset)"
      ],
      "execution_count": 13,
      "outputs": [
        {
          "output_type": "stream",
          "name": "stdout",
          "text": [
            "[[-7.87157 -4.86573]\n",
            " [-4.76661 -6.87944]\n",
            " [-6.67986 -5.8308 ]\n",
            " ...\n",
            " [ 6.91832 -0.32132]\n",
            " [-8.23828 -4.00405]\n",
            " [-5.75112 -5.99531]]\n"
          ]
        }
      ]
    },
    {
      "cell_type": "code",
      "metadata": {
        "colab": {
          "base_uri": "https://localhost:8080/"
        },
        "id": "DTN3SD0TwRM5",
        "outputId": "e3dc1cd6-9389-4da1-c187-3f468712939f"
      },
      "source": [
        "length=len(train_dataset)\n",
        "print(length)"
      ],
      "execution_count": 14,
      "outputs": [
        {
          "output_type": "stream",
          "name": "stdout",
          "text": [
            "3000\n"
          ]
        }
      ]
    },
    {
      "cell_type": "code",
      "metadata": {
        "colab": {
          "base_uri": "https://localhost:8080/",
          "height": 320
        },
        "id": "YWFwNVIdvC0B",
        "outputId": "7eccb158-d41c-4f0b-dbab-a115b2842695"
      },
      "source": [
        "f, ax = plt.subplots()\n",
        "f.set_figheight(5)\n",
        "f.set_figwidth(10)\n",
        "ax.scatter(train_dataset[:,0],train_dataset[:,1],marker='o',color='g',label='Data Points')\n",
        "legend = ax.legend(loc='upper left', shadow=False, fontsize='small',labelspacing=0.5)\n",
        "legend.get_frame().set_facecolor('None')\n",
        "plt.show()"
      ],
      "execution_count": 16,
      "outputs": [
        {
          "output_type": "display_data",
          "data": {
            "image/png": "[encoded data removed]",
            "text/plain": [
              "<Figure size 720x360 with 1 Axes>"
            ]
          },
          "metadata": {
            "needs_background": "light"
          }
        }
      ]
    },
    {
      "cell_type": "code",
      "metadata": {
        "colab": {
          "base_uri": "https://localhost:8080/"
        },
        "id": "jHFGdx8tweOp",
        "outputId": "d1f6dc26-b702-474a-b91a-1f01ddb5cf3e"
      },
      "source": [
        "random.shuffle(train_dataset)\n",
        "print(train_dataset)"
      ],
      "execution_count": 17,
      "outputs": [
        {
          "output_type": "stream",
          "name": "stdout",
          "text": [
            "[[-7.87157 -4.86573]\n",
            " [-4.76661 -6.87944]\n",
            " [-4.76661 -6.87944]\n",
            " ...\n",
            " [ 6.99423  1.00618]\n",
            " [ 8.28209  1.9426 ]\n",
            " [ 6.44367  0.35509]]\n"
          ]
        }
      ]
    },
    {
      "cell_type": "code",
      "metadata": {
        "id": "WlTPBsavwmIC"
      },
      "source": [
        "def dis(a,b):\n",
        "    return np.sqrt(((a[0]-b[0])**2)+((a[1]-b[1])**2))"
      ],
      "execution_count": 18,
      "outputs": []
    },
    {
      "cell_type": "code",
      "metadata": {
        "colab": {
          "base_uri": "https://localhost:8080/"
        },
        "id": "qMw6FUdAwpZC",
        "outputId": "a92c1f36-9a03-4ab4-fa9a-752823b8d2a5"
      },
      "source": [
        "def calculate_mean(cluster):\n",
        "    x_sum=0\n",
        "    y_sum=0\n",
        "    for p in cluster:\n",
        "        x_sum+=train_dataset[p][0]\n",
        "        y_sum+=train_dataset[p][1]\n",
        "       \n",
        "    n=max(1,len(cluster))\n",
        "    return (x_sum)/n,(y_sum)/n\n",
        "#####\n",
        "def get_new_cluster(means,k):\n",
        "    new=[]\n",
        "    for i in range(k):\n",
        "        x=[]\n",
        "        new.append(x)\n",
        "\n",
        "    for tp in range(len(train_dataset)):\n",
        "        mn=100000000000  #distance big value\n",
        "        nc=-1#new cluster\n",
        "        for i in range(k):\n",
        "            d=dis(means[i],train_dataset[tp])\n",
        "            if(d<mn):\n",
        "                mn=d#new distance\n",
        "                nc=i#new cluster  \n",
        "        new[nc].append(tp)\n",
        "    return new \n",
        "def check(c_old,c_new,k):\n",
        "    for i in range(k):\n",
        "        if(len(c_old[i])!=len(c_new[i])):          \n",
        "            return False\n",
        "    for i in range(k):\n",
        "        c_old[i].sort()\n",
        "        c_new[i].sort()\n",
        "        for j in range(len(c_old[i])):\n",
        "            if(c_old[i][j]!=c_new[i][j]):\n",
        "                return False\n",
        "    return True                               \n",
        "def k_means(k):\n",
        "    ar=[]\n",
        "    for i in range(k):\n",
        "        x=[]\n",
        "        ar.append(x)\n",
        "\n",
        "        \n",
        "    for i in range(k):\n",
        "        ar[i].append(i)    \n",
        "    prev=ar.copy()  \n",
        "    while(True):\n",
        "        means=[]\n",
        "        for c in range(k):\n",
        "            means.append(calculate_mean(ar[c]))\n",
        "        curr=get_new_cluster(means,k)\n",
        "        if(check(ar,curr,k)):\n",
        "            break\n",
        "        ar=curr.copy()\n",
        "    return curr\n",
        "K=int(input('Enter a value for K:'))\n",
        "final_cluster=k_means(K) "
      ],
      "execution_count": 19,
      "outputs": [
        {
          "name": "stdout",
          "output_type": "stream",
          "text": [
            "Enter a value for K:2\n"
          ]
        }
      ]
    },
    {
      "cell_type": "code",
      "metadata": {
        "colab": {
          "base_uri": "https://localhost:8080/"
        },
        "id": "xuSDSEhPwtP7",
        "outputId": "d50e002f-680c-4b84-b329-09aaf3497d06"
      },
      "source": [
        "for i in range(K):\n",
        "    print(final_cluster[i])"
      ],
      "execution_count": 20,
      "outputs": [
        {
          "output_type": "stream",
          "name": "stdout",
          "text": [
            "[0, 1, 2, 3, 4, 5, 6, 7, 8, 10, 12, 13, 14, 15, 18, 19, 20, 21, 22, 24, 25, 26, 27, 31, 32, 33, 34, 36, 37, 41, 42, 43, 45, 46, 47, 49, 50, 52, 53, 54, 55, 56, 58, 59, 60, 61, 62, 64, 65, 66, 67, 69, 71, 73, 74, 76, 77, 78, 79, 80, 81, 82, 83, 84, 85, 86, 87, 88, 90, 92, 93, 99, 100, 101, 102, 104, 105, 106, 107, 111, 112, 113, 117, 118, 119, 120, 123, 124, 125, 126, 128, 130, 133, 135, 136, 140, 141, 143, 144, 145, 146, 147, 150, 151, 152, 153, 154, 155, 156, 157, 158, 159, 160, 161, 162, 163, 164, 165, 166, 167, 168, 170, 172, 173, 174, 175, 176, 177, 178, 179, 182, 183, 188, 189, 191, 192, 195, 196, 197, 198, 199, 200, 202, 203, 204, 206, 207, 208, 209, 210, 211, 212, 215, 216, 217, 218, 219, 220, 221, 222, 224, 225, 226, 227, 228, 229, 233, 234, 238, 239, 240, 241, 242, 243, 244, 245, 246, 247, 248, 249, 250, 253, 259, 260, 261, 263, 264, 267, 268, 269, 273, 275, 277, 278, 280, 283, 284, 285, 286, 287, 288, 292, 293, 294, 296, 297, 299, 303, 304, 306, 310, 311, 314, 315, 317, 318, 319, 321, 322, 323, 324, 325, 326, 328, 329, 330, 331, 332, 333, 334, 336, 339, 340, 341, 343, 344, 346, 347, 348, 349, 351, 352, 353, 354, 355, 357, 358, 359, 360, 361, 362, 363, 365, 366, 367, 368, 369, 370, 371, 373, 377, 379, 380, 381, 382, 383, 384, 385, 386, 387, 388, 390, 391, 392, 393, 395, 397, 400, 402, 405, 406, 408, 410, 414, 415, 417, 418, 420, 421, 423, 425, 426, 427, 428, 429, 431, 432, 433, 434, 435, 436, 438, 439, 440, 442, 443, 445, 446, 447, 448, 449, 450, 451, 452, 454, 455, 457, 458, 459, 461, 464, 467, 468, 469, 471, 473, 474, 478, 480, 481, 482, 483, 484, 485, 487, 488, 489, 491, 492, 494, 497, 498, 499, 500, 501, 502, 503, 504, 505, 507, 508, 510, 512, 513, 514, 516, 517, 522, 523, 524, 525, 527, 528, 529, 530, 535, 538, 540, 541, 542, 545, 546, 547, 548, 549, 550, 556, 558, 559, 562, 564, 566, 567, 568, 569, 570, 571, 572, 573, 574, 575, 576, 579, 581, 582, 584, 586, 588, 589, 591, 592, 593, 594, 596, 597, 598, 600, 602, 603, 604, 607, 609, 610, 611, 612, 613, 614, 616, 620, 623, 624, 625, 629, 630, 632, 634, 638, 639, 640, 645, 646, 647, 648, 649, 651, 652, 653, 657, 660, 661, 662, 663, 664, 665, 666, 667, 668, 669, 670, 674, 675, 679, 680, 681, 683, 684, 685, 686, 687, 688, 690, 693, 694, 695, 698, 700, 701, 702, 704, 706, 708, 709, 710, 711, 713, 714, 715, 716, 718, 719, 720, 721, 723, 726, 727, 728, 729, 730, 733, 736, 738, 739, 740, 741, 743, 745, 747, 748, 750, 752, 753, 754, 756, 758, 759, 760, 761, 764, 765, 766, 767, 768, 769, 771, 772, 773, 774, 775, 776, 778, 779, 780, 783, 784, 787, 788, 789, 790, 793, 794, 797, 798, 800, 802, 803, 804, 806, 807, 808, 810, 811, 813, 814, 815, 816, 817, 819, 820, 821, 822, 824, 826, 833, 836, 837, 839, 840, 842, 846, 848, 850, 852, 853, 856, 858, 860, 861, 863, 864, 866, 868, 869, 871, 874, 876, 877, 878, 879, 880, 885, 887, 888, 889, 890, 891, 892, 893, 894, 895, 898, 901, 904, 906, 909, 910, 913, 914, 915, 917, 918, 919, 923, 924, 925, 927, 929, 930, 931, 932, 934, 935, 938, 939, 941, 945, 946, 948, 950, 952, 953, 954, 955, 956, 957, 958, 959, 965, 966, 967, 968, 969, 970, 974, 975, 976, 977, 978, 979, 981, 982, 987, 991, 992, 995, 997, 998, 999, 1000, 1002, 1003, 1004, 1005, 1006, 1008, 1009, 1010, 1011, 1014, 1016, 1017, 1018, 1020, 1021, 1022, 1024, 1025, 1026, 1027, 1028, 1029, 1030, 1031, 1032, 1035, 1037, 1038, 1039, 1041, 1042, 1047, 1048, 1050, 1051, 1052, 1055, 1056, 1057, 1058, 1059, 1061, 1062, 1063, 1064, 1065, 1066, 1067, 1068, 1069, 1070, 1071, 1072, 1075, 1076, 1077, 1079, 1081, 1083, 1084, 1085, 1086, 1088, 1089, 1091, 1092, 1093, 1095, 1097, 1098, 1100, 1102, 1103, 1105, 1106, 1109, 1111, 1112, 1113, 1114, 1115, 1117, 1119, 1120, 1121, 1122, 1123, 1125, 1126, 1127, 1128, 1131, 1132, 1133, 1134, 1136, 1138, 1139, 1140, 1141, 1143, 1144, 1145, 1147, 1148, 1149, 1152, 1153, 1156, 1158, 1160, 1164, 1165, 1167, 1169, 1170, 1171, 1172, 1173, 1174, 1175, 1176, 1178, 1179, 1180, 1181, 1182, 1183, 1184, 1185, 1186, 1188, 1189, 1190, 1191, 1192, 1195, 1197, 1198, 1199, 1200, 1201, 1203, 1204, 1205, 1206, 1207, 1208, 1209, 1211, 1212, 1213, 1214, 1215, 1216, 1217, 1222, 1223, 1224, 1225, 1226, 1227, 1228, 1229, 1230, 1231, 1236, 1237, 1240, 1241, 1242, 1243, 1245, 1246, 1247, 1250, 1252, 1254, 1255, 1257, 1258, 1259, 1260, 1261, 1262, 1263, 1264, 1265, 1266, 1268, 1271, 1274, 1275, 1276, 1277, 1278, 1279, 1280, 1281, 1282, 1283, 1285, 1286, 1287, 1288, 1289, 1291, 1292, 1293, 1294, 1296, 1298, 1299, 1300, 1301, 1303, 1304, 1305, 1307, 1308, 1309, 1310, 1312, 1313, 1314, 1315, 1316, 1317, 1318, 1321, 1323, 1324, 1325, 1326, 1327, 1328, 1330, 1331, 1332, 1333, 1334, 1335, 1338, 1339, 1340, 1341, 1343, 1345, 1346, 1347, 1349, 1351, 1353, 1354, 1356, 1359, 1361, 1364, 1365, 1366, 1367, 1368, 1372, 1373, 1374, 1376, 1378, 1380, 1381, 1382, 1383, 1384, 1385, 1386, 1387, 1388, 1389, 1391, 1392, 1393, 1395, 1397, 1399, 1401, 1402, 1403, 1407, 1409, 1410, 1411, 1412, 1414, 1415, 1419, 1420, 1423, 1424, 1425, 1426, 1427, 1428, 1430, 1431, 1432, 1434, 1436, 1437, 1439, 1440, 1441, 1442, 1444, 1445, 1448, 1449, 1450, 1451, 1452, 1454, 1455, 1458, 1460, 1464, 1466, 1467, 1469, 1470, 1471, 1472, 1473, 1474, 1476, 1477, 1480, 1484, 1485, 1486, 1487, 1488, 1489, 1490, 1491, 1492, 1493, 1494, 1496, 1497, 1498, 1499, 1500, 1504, 1505, 1507, 1508, 1509, 1510, 1511, 1519, 1524, 1526, 1527, 1529, 1530, 1531, 1532, 1533, 1534, 1536, 1541, 1542, 1543, 1546, 1548, 1549, 1550, 1553, 1554, 1556, 1557, 1558, 1559, 1560, 1564, 1566, 1567, 1568, 1569, 1572, 1573, 1575, 1577, 1578, 1579, 1580, 1581, 1585, 1586, 1587, 1588, 1589, 1590, 1591, 1593, 1594, 1595, 1596, 1597, 1599, 1600, 1603, 1604, 1605, 1606, 1607, 1608, 1610, 1611, 1612, 1613, 1614, 1615, 1618, 1619, 1620, 1621, 1622, 1623, 1624, 1625, 1626, 1628, 1629, 1630, 1638, 1639, 1640, 1641, 1643, 1644, 1645, 1646, 1647, 1649, 1652, 1654, 1657, 1658, 1659, 1661, 1662, 1663, 1665, 1666, 1667, 1668, 1669, 1670, 1672, 1674, 1675, 1676, 1678, 1679, 1681, 1683, 1684, 1685, 1686, 1687, 1688, 1689, 1690, 1693, 1694, 1695, 1697, 1699, 1700, 1701, 1702, 1704, 1706, 1707, 1708, 1711, 1712, 1713, 1714, 1716, 1717, 1718, 1719, 1720, 1721, 1723, 1726, 1728, 1729, 1730, 1732, 1733, 1736, 1737, 1738, 1740, 1741, 1742, 1743, 1744, 1745, 1746, 1747, 1750, 1751, 1754, 1756, 1757, 1758, 1760, 1761, 1762, 1763, 1765, 1766, 1768, 1770, 1772, 1773, 1774, 1775, 1776, 1777, 1778, 1779, 1781, 1782, 1783, 1784, 1785, 1786, 1787, 1789, 1790, 1791, 1793, 1795, 1796, 1797, 1798, 1799, 1800, 1801, 1802, 1804, 1808, 1810, 1811, 1812, 1813, 1815, 1816, 1817, 1818, 1819, 1820, 1824, 1825, 1830, 1831, 1834, 1835, 1836, 1837, 1838, 1841, 1842, 1843, 1844, 1845, 1846, 1847, 1848, 1850, 1856, 1858, 1859, 1860, 1861, 1862, 1863, 1865, 1866, 1867, 1868, 1872, 1873, 1874, 1875, 1877, 1878, 1882, 1883, 1884, 1885, 1887, 1888, 1889, 1890, 1898, 1899, 1901, 1902, 1903, 1904, 1905, 1907, 1909, 1911, 1912, 1913, 1914, 1916, 1917, 1918, 1919, 1922, 1923, 1925, 1927, 1928, 1929, 1933, 1934, 1935, 1936, 1937, 1938, 1940, 1942, 1943, 1944, 1946, 1947, 1948, 1950, 1953, 1954, 1958, 1961, 1962, 1964, 1967, 1968, 1969, 1971, 1972, 1975, 1976, 1977, 1978, 1979, 1980, 1981, 1982, 1984, 1985, 1988, 1989, 1990, 1991, 1993, 1994, 1995, 1997, 1999, 2000, 2002, 2003, 2004, 2006, 2008, 2009, 2010, 2011, 2014, 2017, 2021, 2022, 2024, 2025, 2026, 2027, 2029, 2031, 2033, 2034, 2041, 2042, 2043, 2044, 2045, 2046, 2047, 2048, 2049, 2050, 2051, 2052, 2053, 2054, 2056, 2057, 2058, 2059, 2060, 2062, 2064, 2065, 2066, 2067, 2069, 2070, 2071, 2073, 2074, 2075, 2076, 2077, 2079, 2080, 2081, 2083, 2084, 2085, 2087, 2088, 2089, 2092, 2093, 2094, 2095, 2096, 2097, 2099, 2100, 2101, 2102, 2104, 2105, 2107, 2108, 2112, 2113, 2114, 2118, 2119, 2120, 2121, 2122, 2123, 2124, 2127, 2128, 2130, 2131, 2132, 2133, 2134, 2135, 2139, 2140, 2142, 2143, 2144, 2145, 2146, 2151, 2153, 2154, 2155, 2156, 2157, 2160, 2162, 2164, 2165, 2166, 2167, 2170, 2171, 2172, 2173, 2174, 2175, 2176, 2177, 2178, 2180, 2184, 2186, 2187, 2188, 2190, 2191, 2192, 2193, 2195, 2197, 2198, 2199, 2201, 2202, 2203, 2205, 2207, 2210, 2212, 2213, 2214, 2215, 2217, 2218, 2219, 2220, 2221, 2222, 2223, 2225, 2226, 2227, 2230, 2234, 2236, 2237, 2238, 2240, 2243, 2244, 2245, 2247, 2248, 2249, 2250, 2252, 2253, 2254, 2255, 2256, 2257, 2258, 2260, 2262, 2263, 2265, 2266, 2268, 2269, 2270, 2271, 2272, 2275, 2276, 2278, 2279, 2280, 2281, 2282, 2286, 2287, 2288, 2289, 2290, 2291, 2292, 2293, 2295, 2296, 2297, 2298, 2299, 2301, 2302, 2303, 2304, 2305, 2306, 2307, 2308, 2310, 2311, 2313, 2314, 2315, 2316, 2317, 2318, 2320, 2321, 2322, 2323, 2324, 2326, 2329, 2332, 2333, 2335, 2336, 2337, 2338, 2340, 2341, 2342, 2343, 2344, 2345, 2348, 2349, 2351, 2353, 2354, 2355, 2356, 2358, 2360, 2364, 2365, 2366, 2367, 2372, 2375, 2376, 2377, 2378, 2379, 2380, 2381, 2382, 2383, 2384, 2386, 2388, 2389, 2390, 2392, 2393, 2394, 2395, 2396, 2397, 2398, 2399, 2400, 2401, 2403, 2405, 2406, 2407, 2409, 2410, 2412, 2413, 2415, 2416, 2417, 2420, 2421, 2423, 2425, 2426, 2428, 2429, 2433, 2436, 2438, 2439, 2440, 2441, 2442, 2445, 2446, 2448, 2449, 2452, 2453, 2455, 2456, 2457, 2458, 2462, 2463, 2466, 2468, 2469, 2471, 2472, 2473, 2474, 2475, 2478, 2479, 2480, 2482, 2483, 2485, 2486, 2487, 2488, 2490, 2491, 2492, 2493, 2494, 2496, 2497, 2498, 2500, 2503, 2504, 2505, 2508, 2511, 2513, 2514, 2516, 2520, 2521, 2522, 2523, 2525, 2526, 2527, 2528, 2529, 2531, 2532, 2533, 2534, 2535, 2536, 2539, 2542, 2545, 2546, 2547, 2548, 2549, 2550, 2551, 2552, 2553, 2554, 2555, 2556, 2557, 2559, 2560, 2562, 2564, 2565, 2566, 2567, 2568, 2569, 2571, 2572, 2573, 2574, 2575, 2576, 2579, 2581, 2583, 2584, 2587, 2588, 2589, 2590, 2591, 2592, 2593, 2594, 2595, 2596, 2597, 2598, 2599, 2600, 2601, 2602, 2604, 2605, 2606, 2608, 2612, 2613, 2614, 2615, 2616, 2617, 2619, 2621, 2622, 2623, 2624, 2629, 2630, 2631, 2632, 2634, 2635, 2636, 2638, 2639, 2640, 2642, 2645, 2646, 2648, 2650, 2651, 2652, 2654, 2655, 2656, 2657, 2658, 2659, 2660, 2661, 2662, 2663, 2667, 2668, 2670, 2671, 2672, 2675, 2677, 2678, 2679, 2680, 2681, 2684, 2687, 2688, 2690, 2691, 2692, 2693, 2695, 2696, 2698, 2700, 2704, 2705, 2706, 2707, 2708, 2709, 2710, 2712, 2713, 2715, 2717, 2718, 2719, 2723, 2725, 2726, 2729, 2732, 2733, 2735, 2736, 2737, 2740, 2741, 2742, 2743, 2744, 2747, 2749, 2750, 2751, 2752, 2754, 2760, 2763, 2764, 2765, 2767, 2768, 2770, 2771, 2772, 2773, 2774, 2775, 2777, 2779, 2780, 2782, 2787, 2791, 2794, 2795, 2796, 2800, 2802, 2804, 2805, 2806, 2808, 2809, 2811, 2812, 2813, 2814, 2815, 2817, 2818, 2819, 2820, 2821, 2822, 2823, 2824, 2825, 2826, 2827, 2828, 2830, 2836, 2837, 2838, 2839, 2840, 2841, 2843, 2844, 2845, 2846, 2848, 2849, 2851, 2852, 2853, 2855, 2856, 2857, 2858, 2861, 2862, 2864, 2865, 2866, 2867, 2869, 2870, 2871, 2874, 2875, 2876, 2881, 2882, 2884, 2885, 2886, 2889, 2890, 2892, 2894, 2897, 2898, 2899, 2900, 2901, 2902, 2903, 2904, 2905, 2906, 2907, 2908, 2909, 2910, 2911, 2914, 2917, 2919, 2921, 2922, 2923, 2925, 2927, 2928, 2930, 2931, 2932, 2934, 2935, 2936, 2937, 2938, 2939, 2943, 2944, 2945, 2946, 2947, 2948, 2950, 2952, 2953, 2956, 2957, 2958, 2961, 2962, 2963, 2964, 2965, 2966, 2967, 2968, 2969, 2971, 2974, 2975, 2977, 2978, 2979, 2980, 2981, 2983, 2985, 2986, 2989, 2991, 2992, 2993, 2994, 2996]\n",
            "[9, 11, 16, 17, 23, 28, 29, 30, 35, 38, 39, 40, 44, 48, 51, 57, 63, 68, 70, 72, 75, 89, 91, 94, 95, 96, 97, 98, 103, 108, 109, 110, 114, 115, 116, 121, 122, 127, 129, 131, 132, 134, 137, 138, 139, 142, 148, 149, 169, 171, 180, 181, 184, 185, 186, 187, 190, 193, 194, 201, 205, 213, 214, 223, 230, 231, 232, 235, 236, 237, 251, 252, 254, 255, 256, 257, 258, 262, 265, 266, 270, 271, 272, 274, 276, 279, 281, 282, 289, 290, 291, 295, 298, 300, 301, 302, 305, 307, 308, 309, 312, 313, 316, 320, 327, 335, 337, 338, 342, 345, 350, 356, 364, 372, 374, 375, 376, 378, 389, 394, 396, 398, 399, 401, 403, 404, 407, 409, 411, 412, 413, 416, 419, 422, 424, 430, 437, 441, 444, 453, 456, 460, 462, 463, 465, 466, 470, 472, 475, 476, 477, 479, 486, 490, 493, 495, 496, 506, 509, 511, 515, 518, 519, 520, 521, 526, 531, 532, 533, 534, 536, 537, 539, 543, 544, 551, 552, 553, 554, 555, 557, 560, 561, 563, 565, 577, 578, 580, 583, 585, 587, 590, 595, 599, 601, 605, 606, 608, 615, 617, 618, 619, 621, 622, 626, 627, 628, 631, 633, 635, 636, 637, 641, 642, 643, 644, 650, 654, 655, 656, 658, 659, 671, 672, 673, 676, 677, 678, 682, 689, 691, 692, 696, 697, 699, 703, 705, 707, 712, 717, 722, 724, 725, 731, 732, 734, 735, 737, 742, 744, 746, 749, 751, 755, 757, 762, 763, 770, 777, 781, 782, 785, 786, 791, 792, 795, 796, 799, 801, 805, 809, 812, 818, 823, 825, 827, 828, 829, 830, 831, 832, 834, 835, 838, 841, 843, 844, 845, 847, 849, 851, 854, 855, 857, 859, 862, 865, 867, 870, 872, 873, 875, 881, 882, 883, 884, 886, 896, 897, 899, 900, 902, 903, 905, 907, 908, 911, 912, 916, 920, 921, 922, 926, 928, 933, 936, 937, 940, 942, 943, 944, 947, 949, 951, 960, 961, 962, 963, 964, 971, 972, 973, 980, 983, 984, 985, 986, 988, 989, 990, 993, 994, 996, 1001, 1007, 1012, 1013, 1015, 1019, 1023, 1033, 1034, 1036, 1040, 1043, 1044, 1045, 1046, 1049, 1053, 1054, 1060, 1073, 1074, 1078, 1080, 1082, 1087, 1090, 1094, 1096, 1099, 1101, 1104, 1107, 1108, 1110, 1116, 1118, 1124, 1129, 1130, 1135, 1137, 1142, 1146, 1150, 1151, 1154, 1155, 1157, 1159, 1161, 1162, 1163, 1166, 1168, 1177, 1187, 1193, 1194, 1196, 1202, 1210, 1218, 1219, 1220, 1221, 1232, 1233, 1234, 1235, 1238, 1239, 1244, 1248, 1249, 1251, 1253, 1256, 1267, 1269, 1270, 1272, 1273, 1284, 1290, 1295, 1297, 1302, 1306, 1311, 1319, 1320, 1322, 1329, 1336, 1337, 1342, 1344, 1348, 1350, 1352, 1355, 1357, 1358, 1360, 1362, 1363, 1369, 1370, 1371, 1375, 1377, 1379, 1390, 1394, 1396, 1398, 1400, 1404, 1405, 1406, 1408, 1413, 1416, 1417, 1418, 1421, 1422, 1429, 1433, 1435, 1438, 1443, 1446, 1447, 1453, 1456, 1457, 1459, 1461, 1462, 1463, 1465, 1468, 1475, 1478, 1479, 1481, 1482, 1483, 1495, 1501, 1502, 1503, 1506, 1512, 1513, 1514, 1515, 1516, 1517, 1518, 1520, 1521, 1522, 1523, 1525, 1528, 1535, 1537, 1538, 1539, 1540, 1544, 1545, 1547, 1551, 1552, 1555, 1561, 1562, 1563, 1565, 1570, 1571, 1574, 1576, 1582, 1583, 1584, 1592, 1598, 1601, 1602, 1609, 1616, 1617, 1627, 1631, 1632, 1633, 1634, 1635, 1636, 1637, 1642, 1648, 1650, 1651, 1653, 1655, 1656, 1660, 1664, 1671, 1673, 1677, 1680, 1682, 1691, 1692, 1696, 1698, 1703, 1705, 1709, 1710, 1715, 1722, 1724, 1725, 1727, 1731, 1734, 1735, 1739, 1748, 1749, 1752, 1753, 1755, 1759, 1764, 1767, 1769, 1771, 1780, 1788, 1792, 1794, 1803, 1805, 1806, 1807, 1809, 1814, 1821, 1822, 1823, 1826, 1827, 1828, 1829, 1832, 1833, 1839, 1840, 1849, 1851, 1852, 1853, 1854, 1855, 1857, 1864, 1869, 1870, 1871, 1876, 1879, 1880, 1881, 1886, 1891, 1892, 1893, 1894, 1895, 1896, 1897, 1900, 1906, 1908, 1910, 1915, 1920, 1921, 1924, 1926, 1930, 1931, 1932, 1939, 1941, 1945, 1949, 1951, 1952, 1955, 1956, 1957, 1959, 1960, 1963, 1965, 1966, 1970, 1973, 1974, 1983, 1986, 1987, 1992, 1996, 1998, 2001, 2005, 2007, 2012, 2013, 2015, 2016, 2018, 2019, 2020, 2023, 2028, 2030, 2032, 2035, 2036, 2037, 2038, 2039, 2040, 2055, 2061, 2063, 2068, 2072, 2078, 2082, 2086, 2090, 2091, 2098, 2103, 2106, 2109, 2110, 2111, 2115, 2116, 2117, 2125, 2126, 2129, 2136, 2137, 2138, 2141, 2147, 2148, 2149, 2150, 2152, 2158, 2159, 2161, 2163, 2168, 2169, 2179, 2181, 2182, 2183, 2185, 2189, 2194, 2196, 2200, 2204, 2206, 2208, 2209, 2211, 2216, 2224, 2228, 2229, 2231, 2232, 2233, 2235, 2239, 2241, 2242, 2246, 2251, 2259, 2261, 2264, 2267, 2273, 2274, 2277, 2283, 2284, 2285, 2294, 2300, 2309, 2312, 2319, 2325, 2327, 2328, 2330, 2331, 2334, 2339, 2346, 2347, 2350, 2352, 2357, 2359, 2361, 2362, 2363, 2368, 2369, 2370, 2371, 2373, 2374, 2385, 2387, 2391, 2402, 2404, 2408, 2411, 2414, 2418, 2419, 2422, 2424, 2427, 2430, 2431, 2432, 2434, 2435, 2437, 2443, 2444, 2447, 2450, 2451, 2454, 2459, 2460, 2461, 2464, 2465, 2467, 2470, 2476, 2477, 2481, 2484, 2489, 2495, 2499, 2501, 2502, 2506, 2507, 2509, 2510, 2512, 2515, 2517, 2518, 2519, 2524, 2530, 2537, 2538, 2540, 2541, 2543, 2544, 2558, 2561, 2563, 2570, 2577, 2578, 2580, 2582, 2585, 2586, 2603, 2607, 2609, 2610, 2611, 2618, 2620, 2625, 2626, 2627, 2628, 2633, 2637, 2641, 2643, 2644, 2647, 2649, 2653, 2664, 2665, 2666, 2669, 2673, 2674, 2676, 2682, 2683, 2685, 2686, 2689, 2694, 2697, 2699, 2701, 2702, 2703, 2711, 2714, 2716, 2720, 2721, 2722, 2724, 2727, 2728, 2730, 2731, 2734, 2738, 2739, 2745, 2746, 2748, 2753, 2755, 2756, 2757, 2758, 2759, 2761, 2762, 2766, 2769, 2776, 2778, 2781, 2783, 2784, 2785, 2786, 2788, 2789, 2790, 2792, 2793, 2797, 2798, 2799, 2801, 2803, 2807, 2810, 2816, 2829, 2831, 2832, 2833, 2834, 2835, 2842, 2847, 2850, 2854, 2859, 2860, 2863, 2868, 2872, 2873, 2877, 2878, 2879, 2880, 2883, 2887, 2888, 2891, 2893, 2895, 2896, 2912, 2913, 2915, 2916, 2918, 2920, 2924, 2926, 2929, 2933, 2940, 2941, 2942, 2949, 2951, 2954, 2955, 2959, 2960, 2970, 2972, 2973, 2976, 2982, 2984, 2987, 2988, 2990, 2995, 2997, 2998, 2999]\n"
          ]
        }
      ]
    },
    {
      "cell_type": "code",
      "metadata": {
        "id": "lh4nYGsiwygh"
      },
      "source": [
        "x_point=[]\n",
        "y_point=[]\n",
        "for i in range(K):#\n",
        "    x=[]\n",
        "    y=[]\n",
        "    x_point.append(x)#\n",
        "    y_point.append(y)\n",
        "for i in range(K):\n",
        "    for x in final_cluster[i]:\n",
        "        x_point[i].append(train_dataset[x][0])\n",
        "        y_point[i].append(train_dataset[x][1])"
      ],
      "execution_count": 21,
      "outputs": []
    },
    {
      "cell_type": "code",
      "metadata": {
        "colab": {
          "base_uri": "https://localhost:8080/",
          "height": 320
        },
        "id": "3eeBMvXIw08x",
        "outputId": "c531b6f6-fc2e-4d63-a9ab-e0dca5c38d72"
      },
      "source": [
        "fig,ax=plt.subplots()\n",
        "colors=['red','green','blue','yellow','orange','c','m','y','k']\n",
        "marker=['o','o','1','^','s','p','+','D','X','P','2','H','3','d','4']\n",
        "for i in range(K):\n",
        "    name=\"Cluster \"+str(i+1)\n",
        "    ax.scatter(x_point[i],y_point[i],marker=marker[i],color=colors[i],label=name)\n",
        "fig.set_figheight(5)\n",
        "fig.set_figwidth(10)\n",
        "legend.get_frame().set_facecolor('None')\n",
        "ax.legend()\n",
        "plt.show()"
      ],
      "execution_count": 33,
      "outputs": [
        {
          "output_type": "display_data",
          "data": {
            "image/png": "[encoded data removed]",
            "text/plain": [
              "<Figure size 720x360 with 1 Axes>"
            ]
          },
          "metadata": {
            "needs_background": "light"
          }
        }
      ]
    },
    {
      "cell_type": "code",
      "metadata": {
        "id": "gEE6wxL_xmuo"
      },
      "source": [
        ""
      ],
      "execution_count": null,
      "outputs": []
    }
  ]
}