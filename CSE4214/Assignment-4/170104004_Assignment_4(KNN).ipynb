{
  "nbformat": 4,
  "nbformat_minor": 0,
  "metadata": {
    "colab": {
      "name": "170104004_Assignment-4(A).ipynb",
      "provenance": []
    },
    "kernelspec": {
      "name": "python3",
      "display_name": "Python 3"
    },
    "language_info": {
      "name": "python"
    }
  },
  "cells": [
    {
      "cell_type": "markdown",
      "metadata": {
        "id": "_-7CL7-gs2Ky"
      },
      "source": [
        "Course Name: Pattern Recognition Lab\n",
        "\n",
        "Course No: CSE 4214\n",
        "\n",
        "Experiment Name: Implementing K-Nearest Neighbors (KNN)\n",
        "\n",
        "Name: Umme Habiba, Section: A1, ID: 170104004"
      ]
    },
    {
      "cell_type": "code",
      "metadata": {
        "id": "xj9MHpjFszLy"
      },
      "source": [
        "import math\n",
        "import pandas as pd\n",
        "import numpy as np\n",
        "import io\n",
        "import matplotlib.pyplot as plt"
      ],
      "execution_count": 56,
      "outputs": []
    },
    {
      "cell_type": "code",
      "metadata": {
        "colab": {
          "base_uri": "https://localhost:8080/",
          "height": 488
        },
        "id": "8GahRx1afD3-",
        "outputId": "83e87a25-9c87-4388-e389-aafc35290855"
      },
      "source": [
        "train=pd.read_csv(\"/content/drive/MyDrive/CSE4214/Assignment-4/train_knn.txt\", sep=\",\",header=None)\n",
        "train"
      ],
      "execution_count": 57,
      "outputs": [
        {
          "output_type": "execute_result",
          "data": {
            "text/html": [
              "<div>\n",
              "<style scoped>\n",
              "    .dataframe tbody tr th:only-of-type {\n",
              "        vertical-align: middle;\n",
              "    }\n",
              "\n",
              "    .dataframe tbody tr th {\n",
              "        vertical-align: top;\n",
              "    }\n",
              "\n",
              "    .dataframe thead th {\n",
              "        text-align: right;\n",
              "    }\n",
              "</style>\n",
              "<table border=\"1\" class=\"dataframe\">\n",
              "  <thead>\n",
              "    <tr style=\"text-align: right;\">\n",
              "      <th></th>\n",
              "      <th>0</th>\n",
              "      <th>1</th>\n",
              "      <th>2</th>\n",
              "    </tr>\n",
              "  </thead>\n",
              "  <tbody>\n",
              "    <tr>\n",
              "      <th>0</th>\n",
              "      <td>7</td>\n",
              "      <td>7</td>\n",
              "      <td>1</td>\n",
              "    </tr>\n",
              "    <tr>\n",
              "      <th>1</th>\n",
              "      <td>7</td>\n",
              "      <td>4</td>\n",
              "      <td>1</td>\n",
              "    </tr>\n",
              "    <tr>\n",
              "      <th>2</th>\n",
              "      <td>6</td>\n",
              "      <td>4</td>\n",
              "      <td>1</td>\n",
              "    </tr>\n",
              "    <tr>\n",
              "      <th>3</th>\n",
              "      <td>7</td>\n",
              "      <td>5</td>\n",
              "      <td>1</td>\n",
              "    </tr>\n",
              "    <tr>\n",
              "      <th>4</th>\n",
              "      <td>7</td>\n",
              "      <td>6</td>\n",
              "      <td>1</td>\n",
              "    </tr>\n",
              "    <tr>\n",
              "      <th>5</th>\n",
              "      <td>6</td>\n",
              "      <td>7</td>\n",
              "      <td>1</td>\n",
              "    </tr>\n",
              "    <tr>\n",
              "      <th>6</th>\n",
              "      <td>6</td>\n",
              "      <td>6</td>\n",
              "      <td>1</td>\n",
              "    </tr>\n",
              "    <tr>\n",
              "      <th>7</th>\n",
              "      <td>3</td>\n",
              "      <td>4</td>\n",
              "      <td>2</td>\n",
              "    </tr>\n",
              "    <tr>\n",
              "      <th>8</th>\n",
              "      <td>2</td>\n",
              "      <td>3</td>\n",
              "      <td>2</td>\n",
              "    </tr>\n",
              "    <tr>\n",
              "      <th>9</th>\n",
              "      <td>3</td>\n",
              "      <td>2</td>\n",
              "      <td>2</td>\n",
              "    </tr>\n",
              "    <tr>\n",
              "      <th>10</th>\n",
              "      <td>4</td>\n",
              "      <td>3</td>\n",
              "      <td>2</td>\n",
              "    </tr>\n",
              "    <tr>\n",
              "      <th>11</th>\n",
              "      <td>3</td>\n",
              "      <td>3</td>\n",
              "      <td>2</td>\n",
              "    </tr>\n",
              "    <tr>\n",
              "      <th>12</th>\n",
              "      <td>4</td>\n",
              "      <td>4</td>\n",
              "      <td>2</td>\n",
              "    </tr>\n",
              "    <tr>\n",
              "      <th>13</th>\n",
              "      <td>1</td>\n",
              "      <td>4</td>\n",
              "      <td>2</td>\n",
              "    </tr>\n",
              "  </tbody>\n",
              "</table>\n",
              "</div>"
            ],
            "text/plain": [
              "    0  1  2\n",
              "0   7  7  1\n",
              "1   7  4  1\n",
              "2   6  4  1\n",
              "3   7  5  1\n",
              "4   7  6  1\n",
              "5   6  7  1\n",
              "6   6  6  1\n",
              "7   3  4  2\n",
              "8   2  3  2\n",
              "9   3  2  2\n",
              "10  4  3  2\n",
              "11  3  3  2\n",
              "12  4  4  2\n",
              "13  1  4  2"
            ]
          },
          "metadata": {},
          "execution_count": 57
        }
      ]
    },
    {
      "cell_type": "code",
      "metadata": {
        "colab": {
          "base_uri": "https://localhost:8080/"
        },
        "id": "I0UfmmPUnqvy",
        "outputId": "6c2b0287-179a-43ea-db7a-204a4d229ce3"
      },
      "source": [
        "train=trainData.to_numpy();\n",
        "train"
      ],
      "execution_count": 58,
      "outputs": [
        {
          "output_type": "execute_result",
          "data": {
            "text/plain": [
              "array([[7, 7, 1],\n",
              "       [7, 4, 1],\n",
              "       [6, 4, 1],\n",
              "       [7, 5, 1],\n",
              "       [7, 6, 1],\n",
              "       [6, 7, 1],\n",
              "       [6, 6, 1],\n",
              "       [3, 4, 2],\n",
              "       [2, 3, 2],\n",
              "       [3, 2, 2],\n",
              "       [4, 3, 2],\n",
              "       [3, 3, 2],\n",
              "       [4, 4, 2],\n",
              "       [1, 4, 2]])"
            ]
          },
          "metadata": {},
          "execution_count": 58
        }
      ]
    },
    {
      "cell_type": "code",
      "metadata": {
        "colab": {
          "base_uri": "https://localhost:8080/",
          "height": 332
        },
        "id": "Z6GR97lEh_oX",
        "outputId": "10d4361c-e764-42cb-de6b-2369a6f8644f"
      },
      "source": [
        "testdata=pd.read_csv(\"/content/drive/MyDrive/CSE4214/Assignment-4/test_knn.txt\", sep=\",\",header=None)\n",
        "testdata"
      ],
      "execution_count": 59,
      "outputs": [
        {
          "output_type": "execute_result",
          "data": {
            "text/html": [
              "<div>\n",
              "<style scoped>\n",
              "    .dataframe tbody tr th:only-of-type {\n",
              "        vertical-align: middle;\n",
              "    }\n",
              "\n",
              "    .dataframe tbody tr th {\n",
              "        vertical-align: top;\n",
              "    }\n",
              "\n",
              "    .dataframe thead th {\n",
              "        text-align: right;\n",
              "    }\n",
              "</style>\n",
              "<table border=\"1\" class=\"dataframe\">\n",
              "  <thead>\n",
              "    <tr style=\"text-align: right;\">\n",
              "      <th></th>\n",
              "      <th>0</th>\n",
              "      <th>1</th>\n",
              "    </tr>\n",
              "  </thead>\n",
              "  <tbody>\n",
              "    <tr>\n",
              "      <th>0</th>\n",
              "      <td>3</td>\n",
              "      <td>7</td>\n",
              "    </tr>\n",
              "    <tr>\n",
              "      <th>1</th>\n",
              "      <td>7</td>\n",
              "      <td>7</td>\n",
              "    </tr>\n",
              "    <tr>\n",
              "      <th>2</th>\n",
              "      <td>4</td>\n",
              "      <td>3</td>\n",
              "    </tr>\n",
              "    <tr>\n",
              "      <th>3</th>\n",
              "      <td>2</td>\n",
              "      <td>8</td>\n",
              "    </tr>\n",
              "    <tr>\n",
              "      <th>4</th>\n",
              "      <td>3</td>\n",
              "      <td>5</td>\n",
              "    </tr>\n",
              "    <tr>\n",
              "      <th>5</th>\n",
              "      <td>1</td>\n",
              "      <td>2</td>\n",
              "    </tr>\n",
              "    <tr>\n",
              "      <th>6</th>\n",
              "      <td>4</td>\n",
              "      <td>8</td>\n",
              "    </tr>\n",
              "    <tr>\n",
              "      <th>7</th>\n",
              "      <td>8</td>\n",
              "      <td>3</td>\n",
              "    </tr>\n",
              "    <tr>\n",
              "      <th>8</th>\n",
              "      <td>8</td>\n",
              "      <td>4</td>\n",
              "    </tr>\n",
              "  </tbody>\n",
              "</table>\n",
              "</div>"
            ],
            "text/plain": [
              "   0  1\n",
              "0  3  7\n",
              "1  7  7\n",
              "2  4  3\n",
              "3  2  8\n",
              "4  3  5\n",
              "5  1  2\n",
              "6  4  8\n",
              "7  8  3\n",
              "8  8  4"
            ]
          },
          "metadata": {},
          "execution_count": 59
        }
      ]
    },
    {
      "cell_type": "code",
      "metadata": {
        "colab": {
          "base_uri": "https://localhost:8080/"
        },
        "id": "kU-PVFfNn1Hf",
        "outputId": "e96a1fd7-b048-4a6f-b14c-cf5080476baf"
      },
      "source": [
        "test=testdata.to_numpy();\n",
        "test"
      ],
      "execution_count": 60,
      "outputs": [
        {
          "output_type": "execute_result",
          "data": {
            "text/plain": [
              "array([[3, 7],\n",
              "       [7, 7],\n",
              "       [4, 3],\n",
              "       [2, 8],\n",
              "       [3, 5],\n",
              "       [1, 2],\n",
              "       [4, 8],\n",
              "       [8, 3],\n",
              "       [8, 4]])"
            ]
          },
          "metadata": {},
          "execution_count": 60
        }
      ]
    },
    {
      "cell_type": "markdown",
      "metadata": {
        "id": "EL6oaIkfoGkL"
      },
      "source": [
        " * Task-1  "
      ]
    },
    {
      "cell_type": "code",
      "metadata": {
        "colab": {
          "base_uri": "https://localhost:8080/"
        },
        "id": "pkIAfgWJiCSO",
        "outputId": "739fa72d-64db-43f0-ce99-4ad155d3fbef"
      },
      "source": [
        "Trainclass1 =[([i[0],i[1]]) for i in train if i[2] == 1]\n",
        "Trainclass2 =[([i[0],i[1]]) for i in train if i[2] == 2]\n",
        "Trainclass1 = np.array(Trainclass1)\n",
        "Trainclass2 = np.array(Trainclass2)\n",
        "print(Trainclass1)\n",
        "print(Trainclass2)"
      ],
      "execution_count": 61,
      "outputs": [
        {
          "output_type": "stream",
          "name": "stdout",
          "text": [
            "[[7 7]\n",
            " [7 4]\n",
            " [6 4]\n",
            " [7 5]\n",
            " [7 6]\n",
            " [6 7]\n",
            " [6 6]]\n",
            "[[3 4]\n",
            " [2 3]\n",
            " [3 2]\n",
            " [4 3]\n",
            " [3 3]\n",
            " [4 4]\n",
            " [1 4]]\n"
          ]
        }
      ]
    },
    {
      "cell_type": "code",
      "metadata": {
        "colab": {
          "base_uri": "https://localhost:8080/"
        },
        "id": "7GGTlCdkn9gQ",
        "outputId": "d9bc6ab3-da38-4353-f4a0-165a93f574fa"
      },
      "source": [
        "x = np.concatenate((Trainclass1, Trainclass2), axis=0)\n",
        "x"
      ],
      "execution_count": 62,
      "outputs": [
        {
          "output_type": "execute_result",
          "data": {
            "text/plain": [
              "array([[7, 7],\n",
              "       [7, 4],\n",
              "       [6, 4],\n",
              "       [7, 5],\n",
              "       [7, 6],\n",
              "       [6, 7],\n",
              "       [6, 6],\n",
              "       [3, 4],\n",
              "       [2, 3],\n",
              "       [3, 2],\n",
              "       [4, 3],\n",
              "       [3, 3],\n",
              "       [4, 4],\n",
              "       [1, 4]])"
            ]
          },
          "metadata": {},
          "execution_count": 62
        }
      ]
    },
    {
      "cell_type": "code",
      "metadata": {
        "colab": {
          "base_uri": "https://localhost:8080/"
        },
        "id": "kpDLSyjdoCbQ",
        "outputId": "5000622a-8279-4e67-f5e8-b2a11b597f72"
      },
      "source": [
        "x = np.concatenate((Trainclass1, Trainclass2), axis=0)\n",
        "x"
      ],
      "execution_count": 63,
      "outputs": [
        {
          "output_type": "execute_result",
          "data": {
            "text/plain": [
              "array([[7, 7],\n",
              "       [7, 4],\n",
              "       [6, 4],\n",
              "       [7, 5],\n",
              "       [7, 6],\n",
              "       [6, 7],\n",
              "       [6, 6],\n",
              "       [3, 4],\n",
              "       [2, 3],\n",
              "       [3, 2],\n",
              "       [4, 3],\n",
              "       [3, 3],\n",
              "       [4, 4],\n",
              "       [1, 4]])"
            ]
          },
          "metadata": {},
          "execution_count": 63
        }
      ]
    },
    {
      "cell_type": "code",
      "metadata": {
        "colab": {
          "base_uri": "https://localhost:8080/",
          "height": 355
        },
        "id": "D1gs7i-ooY4p",
        "outputId": "9aa3ce07-8f5b-4677-ae6d-d633f002291f"
      },
      "source": [
        "fig = plt.figure()\n",
        "fig, ax = plt.subplots()\n",
        "fig.set_figheight(5)\n",
        "fig.set_figwidth(10)\n",
        "ax.set_title('Plot training Data of Class One and Class Two')\n",
        "plt.scatter(Trainclass1[:,0], Trainclass1[:,1], c = 'r', marker = 'o', label = ' class 1')\n",
        "plt.scatter(Trainclass2[:,0], Trainclass2[:,1], c = 'b', marker = '*', label = ' class 2')\n",
        "plt.legend(loc=\"upper left\",shadow=False, fontsize='small',labelspacing=0.5)\n",
        "plt.show()"
      ],
      "execution_count": 64,
      "outputs": [
        {
          "output_type": "display_data",
          "data": {
            "text/plain": [
              "<Figure size 432x288 with 0 Axes>"
            ]
          },
          "metadata": {}
        },
        {
          "output_type": "display_data",
          "data": {
            "image/png": "[encoded data removed]",
            "text/plain": [
              "<Figure size 720x360 with 1 Axes>"
            ]
          },
          "metadata": {
            "needs_background": "light"
          }
        }
      ]
    },
    {
      "cell_type": "markdown",
      "metadata": {
        "id": "_PextCcjpa-Q"
      },
      "source": [
        "*  Task-2"
      ]
    },
    {
      "cell_type": "code",
      "metadata": {
        "colab": {
          "base_uri": "https://localhost:8080/"
        },
        "id": "Eo6PL0srpTAx",
        "outputId": "6a7096a1-e8c5-40e9-ffb7-423bbe5836cf"
      },
      "source": [
        "p1=[1,4]\n",
        "p2 =[3,7]\n",
        "print(p2[1])\n",
        "sum = 0\n",
        "sum = math.pow(p1[0] - p2[0], 2) + math.pow(p1[1] - p2[1], 2)\n",
        "print(round(math.sqrt(sum),2))\n",
        "print(x[1])\n",
        "def a(x):\n",
        "    print(a[0])"
      ],
      "execution_count": 65,
      "outputs": [
        {
          "output_type": "stream",
          "name": "stdout",
          "text": [
            "7\n",
            "3.61\n",
            "[7 4]\n"
          ]
        }
      ]
    },
    {
      "cell_type": "code",
      "metadata": {
        "id": "8ESMX5G2pg8w"
      },
      "source": [
        "def euclidian_dist(p1, p2):\n",
        "    sum = 0\n",
        "    sum = math.pow(p1[0] - p2[0], 2) + math.pow(p1[1] - p2[1], 2)\n",
        "    return round(math.sqrt(sum),2)"
      ],
      "execution_count": 66,
      "outputs": []
    },
    {
      "cell_type": "code",
      "metadata": {
        "colab": {
          "base_uri": "https://localhost:8080/"
        },
        "id": "Y-n4If2Vpmmo",
        "outputId": "69f7c99c-7bf5-4830-c34b-200cc3bce022"
      },
      "source": [
        "new_sample = [3,7]\n",
        "dists = {}\n",
        "dx = []\n",
        "dx1=[]\n",
        "for i in range(len(x)):\n",
        "    d = euclidian_dist(x[i], new_sample)\n",
        "    dx.append(d)\n",
        "    print(dx)\n",
        "    dists[i] = d\n",
        "dx.sort()\n",
        "print(dx)\n",
        "\n",
        "k_neighbors = sorted(dists,key = dists.get)[:3]\n",
        "print(k_neighbors[0])\n",
        "print(train[k_neighbors[0]][-1])"
      ],
      "execution_count": 67,
      "outputs": [
        {
          "output_type": "stream",
          "name": "stdout",
          "text": [
            "[4.0]\n",
            "[4.0, 5.0]\n",
            "[4.0, 5.0, 4.24]\n",
            "[4.0, 5.0, 4.24, 4.47]\n",
            "[4.0, 5.0, 4.24, 4.47, 4.12]\n",
            "[4.0, 5.0, 4.24, 4.47, 4.12, 3.0]\n",
            "[4.0, 5.0, 4.24, 4.47, 4.12, 3.0, 3.16]\n",
            "[4.0, 5.0, 4.24, 4.47, 4.12, 3.0, 3.16, 3.0]\n",
            "[4.0, 5.0, 4.24, 4.47, 4.12, 3.0, 3.16, 3.0, 4.12]\n",
            "[4.0, 5.0, 4.24, 4.47, 4.12, 3.0, 3.16, 3.0, 4.12, 5.0]\n",
            "[4.0, 5.0, 4.24, 4.47, 4.12, 3.0, 3.16, 3.0, 4.12, 5.0, 4.12]\n",
            "[4.0, 5.0, 4.24, 4.47, 4.12, 3.0, 3.16, 3.0, 4.12, 5.0, 4.12, 4.0]\n",
            "[4.0, 5.0, 4.24, 4.47, 4.12, 3.0, 3.16, 3.0, 4.12, 5.0, 4.12, 4.0, 3.16]\n",
            "[4.0, 5.0, 4.24, 4.47, 4.12, 3.0, 3.16, 3.0, 4.12, 5.0, 4.12, 4.0, 3.16, 3.61]\n",
            "[3.0, 3.0, 3.16, 3.16, 3.61, 4.0, 4.0, 4.12, 4.12, 4.12, 4.24, 4.47, 5.0, 5.0]\n",
            "5\n",
            "1\n"
          ]
        }
      ]
    },
    {
      "cell_type": "code",
      "metadata": {
        "id": "_JSL3XRdprBI"
      },
      "source": [
        "def knn(x,train_set, new_sample, K):\n",
        "    dists = {}\n",
        "    \n",
        "    for i in range(len(x)):\n",
        "      d = euclidian_dist(x[i], new_sample)\n",
        "      dists[i] = d\n",
        "    \n",
        "    k_neighbors = sorted(dists, key=dists.get)[:K]\n",
        "    \n",
        "    qty_label1 = 0 \n",
        "    qty_label2 = 0\n",
        "    for index in k_neighbors:\n",
        "        if train_set[index][-1] == 1:\n",
        "            qty_label1 += 1\n",
        "        else:\n",
        "            qty_label2 += 1\n",
        "            \n",
        "    if qty_label1 > qty_label2:\n",
        "        return 1\n",
        "    else:\n",
        "        return 2"
      ],
      "execution_count": 68,
      "outputs": []
    },
    {
      "cell_type": "code",
      "metadata": {
        "colab": {
          "base_uri": "https://localhost:8080/"
        },
        "id": "TUHI7UlepuSg",
        "outputId": "dc4af0f8-a25c-4dd4-a6d3-429de99ef339"
      },
      "source": [
        "K = int(input(\"Enter your value of k: \") )\n",
        "l = []\n",
        "for j in range(len(test)):\n",
        "    label = knn(x,train, test[j], K)\n",
        "    l.append(label)\n",
        "l\n",
        "    "
      ],
      "execution_count": 69,
      "outputs": [
        {
          "name": "stdout",
          "output_type": "stream",
          "text": [
            "Enter your value of k: 5\n"
          ]
        },
        {
          "output_type": "execute_result",
          "data": {
            "text/plain": [
              "[2, 1, 2, 2, 2, 2, 1, 1, 1]"
            ]
          },
          "metadata": {},
          "execution_count": 69
        }
      ]
    },
    {
      "cell_type": "code",
      "metadata": {
        "colab": {
          "base_uri": "https://localhost:8080/"
        },
        "id": "N8A2QuZXr2ip",
        "outputId": "d93c943c-07cb-4fbc-c8b9-a872724a9a06"
      },
      "source": [
        "test_label = np.array(l)\n",
        "print(test_label)"
      ],
      "execution_count": 70,
      "outputs": [
        {
          "output_type": "stream",
          "name": "stdout",
          "text": [
            "[2 1 2 2 2 2 1 1 1]\n"
          ]
        }
      ]
    },
    {
      "cell_type": "code",
      "metadata": {
        "id": "5j0_kzjXp0Gy"
      },
      "source": [
        "y=np.zeros([9,3])\n",
        "y[:,0]=test[:,0]\n",
        "y[:,1]=test[:,1]\n",
        "y[:,2]=test_label"
      ],
      "execution_count": 71,
      "outputs": []
    },
    {
      "cell_type": "code",
      "metadata": {
        "colab": {
          "base_uri": "https://localhost:8080/"
        },
        "id": "52ALxtJQr40C",
        "outputId": "a97963d5-78a9-4d75-9ca6-656849e2a67b"
      },
      "source": [
        "y"
      ],
      "execution_count": 72,
      "outputs": [
        {
          "output_type": "execute_result",
          "data": {
            "text/plain": [
              "array([[3., 7., 2.],\n",
              "       [7., 7., 1.],\n",
              "       [4., 3., 2.],\n",
              "       [2., 8., 2.],\n",
              "       [3., 5., 2.],\n",
              "       [1., 2., 2.],\n",
              "       [4., 8., 1.],\n",
              "       [8., 3., 1.],\n",
              "       [8., 4., 1.]])"
            ]
          },
          "metadata": {},
          "execution_count": 72
        }
      ]
    },
    {
      "cell_type": "code",
      "metadata": {
        "id": "Ftc0v2Ebp2hx"
      },
      "source": [
        "test1 =[([i[0],i[1]]) for i in y if i[2] == 1]\n",
        "test2 =[([i[0],i[1]]) for i in y if i[2] == 2]\n",
        "test1 = np.array(test1)\n",
        "test2 = np.array(test2)"
      ],
      "execution_count": 73,
      "outputs": []
    },
    {
      "cell_type": "code",
      "metadata": {
        "colab": {
          "base_uri": "https://localhost:8080/",
          "height": 355
        },
        "id": "t-N8JGqXr9X1",
        "outputId": "70a4fd68-3dd9-4cc9-cb6f-8bf374a8102c"
      },
      "source": [
        "fig = plt.figure()\n",
        "fig, ax = plt.subplots()\n",
        "fig.set_figheight(5)\n",
        "fig.set_figwidth(10)\n",
        "ax.set_title('Plot training Data of Class One and Class Two')\n",
        "plt.scatter(test1[:,0], test1[:,1], c = 'r', marker = 'o', label = ' Test class 1')\n",
        "plt.scatter(test2[:,0], test2[:,1], c = 'b', marker = '*', label = 'Test  class 2')\n",
        "plt.legend(loc = 'best')\n",
        "plt.show()"
      ],
      "execution_count": 74,
      "outputs": [
        {
          "output_type": "display_data",
          "data": {
            "text/plain": [
              "<Figure size 432x288 with 0 Axes>"
            ]
          },
          "metadata": {}
        },
        {
          "output_type": "display_data",
          "data": {
            "image/png": "[encoded data removed]",
            "text/plain": [
              "<Figure size 720x360 with 1 Axes>"
            ]
          },
          "metadata": {
            "needs_background": "light"
          }
        }
      ]
    },
    {
      "cell_type": "markdown",
      "metadata": {
        "id": "48O7aYlJslTj"
      },
      "source": [
        "*  Task-3"
      ]
    },
    {
      "cell_type": "code",
      "metadata": {
        "id": "k-lmfkOJsVAb"
      },
      "source": [
        "file = open(\"predict.txt\", \"w\")"
      ],
      "execution_count": 75,
      "outputs": []
    },
    {
      "cell_type": "code",
      "metadata": {
        "id": "1Qbxlg_tsZeS"
      },
      "source": [
        "def knnx(x,train_set, new_sample, K):\n",
        "    dists = {}\n",
        "    dx = []\n",
        "    dx1 = []\n",
        "    \n",
        "    qty_label1 = 0 \n",
        "    qty_label2 = 0 \n",
        "    \n",
        "    for i in range(len(x)):\n",
        "      d = euclidian_dist(x[i], new_sample)\n",
        "      dists[i] = d\n",
        "      dx.append(d)\n",
        "      #print(dx)\n",
        "    dx.sort()\n",
        "    k_neighbors = sorted(dists, key=dists.get)[:K]\n",
        "    \n",
        "    \n",
        "    \n",
        "    for i in range(K):\n",
        "        dx1.append(dx[i])\n",
        "    \n",
        "    \n",
        "   \n",
        "    for index in range(len(k_neighbors)):\n",
        "        \n",
        "        if train_set[k_neighbors[index]][-1] == 1:\n",
        "            print('distance ',index+1,':',dx1[index],'class',1)\n",
        "            file.write(\"%s %s %s %s %s %s \\n\" %(\"distance\",index+1,\":\",dx1[index],\"class\",\"1\"))\n",
        "            qty_label1 += 1\n",
        "        else:\n",
        "            print('distance ',index+1,':',dx1[index],'class',2)\n",
        "            file.write(\"%s %s %s %s %s %s \\n\" %(\"distance\",index+1,\":\",dx1[index],\"class\",\"2\"))\n",
        "            qty_label2 += 1\n",
        "            \n",
        "    if qty_label1 > qty_label2:\n",
        "    \n",
        "        print('predicted  class 1')\n",
        "        file.write(\"%s\\n\" %(\"predicted  class 1\"))\n",
        "    else:\n",
        "        print('predicted  class 2')\n",
        "        file.write(\"%s\\n\" %(\"predicted  class 2\"))\n"
      ],
      "execution_count": 76,
      "outputs": []
    },
    {
      "cell_type": "code",
      "metadata": {
        "colab": {
          "base_uri": "https://localhost:8080/"
        },
        "id": "HSJ7JiL6scs1",
        "outputId": "5ec47cac-3244-4f1a-bdf2-950038fceec5"
      },
      "source": [
        "K = int(input(\"Enter your value of k: \"))\n",
        "for j in range(len(test)):\n",
        "    file.write(\"%s %s\\n\" %(\"test point\",test[j]))\n",
        "    print('test point',test[j])\n",
        "    knnx(x,train, test[j], K)\n",
        "    file.write('\\n')\n",
        "    print('\\n')\n",
        "file.close()"
      ],
      "execution_count": 77,
      "outputs": [
        {
          "output_type": "stream",
          "name": "stdout",
          "text": [
            "Enter your value of k: 5\n",
            "test point [3 7]\n",
            "distance  1 : 3.0 class 1\n",
            "distance  2 : 3.0 class 2\n",
            "distance  3 : 3.16 class 1\n",
            "distance  4 : 3.16 class 2\n",
            "distance  5 : 3.61 class 2\n",
            "predicted  class 2\n",
            "\n",
            "\n",
            "test point [7 7]\n",
            "distance  1 : 0.0 class 1\n",
            "distance  2 : 1.0 class 1\n",
            "distance  3 : 1.0 class 1\n",
            "distance  4 : 1.41 class 1\n",
            "distance  5 : 2.0 class 1\n",
            "predicted  class 1\n",
            "\n",
            "\n",
            "test point [4 3]\n",
            "distance  1 : 0.0 class 2\n",
            "distance  2 : 1.0 class 2\n",
            "distance  3 : 1.0 class 2\n",
            "distance  4 : 1.41 class 2\n",
            "distance  5 : 1.41 class 2\n",
            "predicted  class 2\n",
            "\n",
            "\n",
            "test point [2 8]\n",
            "distance  1 : 4.12 class 1\n",
            "distance  2 : 4.12 class 2\n",
            "distance  3 : 4.12 class 2\n",
            "distance  4 : 4.47 class 1\n",
            "distance  5 : 4.47 class 2\n",
            "predicted  class 2\n",
            "\n",
            "\n",
            "test point [3 5]\n",
            "distance  1 : 1.0 class 2\n",
            "distance  2 : 1.41 class 2\n",
            "distance  3 : 2.0 class 2\n",
            "distance  4 : 2.24 class 2\n",
            "distance  5 : 2.24 class 2\n",
            "predicted  class 2\n",
            "\n",
            "\n",
            "test point [1 2]\n",
            "distance  1 : 1.41 class 2\n",
            "distance  2 : 2.0 class 2\n",
            "distance  3 : 2.0 class 2\n",
            "distance  4 : 2.24 class 2\n",
            "distance  5 : 2.83 class 2\n",
            "predicted  class 2\n",
            "\n",
            "\n",
            "test point [4 8]\n",
            "distance  1 : 2.24 class 1\n",
            "distance  2 : 2.83 class 1\n",
            "distance  3 : 3.16 class 1\n",
            "distance  4 : 3.61 class 1\n",
            "distance  5 : 4.0 class 2\n",
            "predicted  class 1\n",
            "\n",
            "\n",
            "test point [8 3]\n",
            "distance  1 : 1.41 class 1\n",
            "distance  2 : 2.24 class 1\n",
            "distance  3 : 2.24 class 1\n",
            "distance  4 : 3.16 class 1\n",
            "distance  5 : 3.61 class 1\n",
            "predicted  class 1\n",
            "\n",
            "\n",
            "test point [8 4]\n",
            "distance  1 : 1.0 class 1\n",
            "distance  2 : 1.41 class 1\n",
            "distance  3 : 2.0 class 1\n",
            "distance  4 : 2.24 class 1\n",
            "distance  5 : 2.83 class 1\n",
            "predicted  class 1\n",
            "\n",
            "\n"
          ]
        }
      ]
    }
  ]
}