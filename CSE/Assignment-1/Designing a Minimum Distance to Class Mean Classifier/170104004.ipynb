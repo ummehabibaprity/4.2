{
  "nbformat": 4,
  "nbformat_minor": 0,
  "metadata": {
    "colab": {
      "name": "170104004.ipynb",
      "provenance": [],
      "collapsed_sections": []
    },
    "kernelspec": {
      "name": "python3",
      "display_name": "Python 3"
    },
    "language_info": {
      "name": "python"
    }
  },
  "cells": [
    {
      "cell_type": "markdown",
      "metadata": {
        "id": "UAhG9So8opL0"
      },
      "source": [
        "Course Name: Pattern Recognition Lab, Course No: CSE 4214, Experiment Name: Designing a Minimum Distance to Class Mean Classifier, Name: Umme Habiba, Section: A1, ID: 170104004"
      ]
    },
    {
      "cell_type": "code",
      "metadata": {
        "id": "mtLjmGID_Rem"
      },
      "source": [
        "import numpy as np\n",
        "import pandas as pd\n",
        "import matplotlib.pyplot as plt"
      ],
      "execution_count": 130,
      "outputs": []
    },
    {
      "cell_type": "markdown",
      "metadata": {
        "id": "42Av2txLp8wz"
      },
      "source": [
        "load train data"
      ]
    },
    {
      "cell_type": "code",
      "metadata": {
        "colab": {
          "base_uri": "https://localhost:8080/"
        },
        "id": "X2qepaXhDAG6",
        "outputId": "740a7d53-9e3d-4380-dbb6-30e1ad48c978"
      },
      "source": [
        "train_data=np.loadtxt(\"/content/drive/MyDrive/CSE4214/Assignment1/train.txt\")\n",
        "print(train_data)"
      ],
      "execution_count": 131,
      "outputs": [
        {
          "output_type": "stream",
          "text": [
            "[[ 2.  2.  1.]\n",
            " [ 3.  1.  1.]\n",
            " [-4.  3.  2.]\n",
            " [ 3.  3.  1.]\n",
            " [-1. -3.  1.]\n",
            " [ 2.  6.  2.]\n",
            " [ 4.  2.  1.]\n",
            " [-2. -2.  1.]\n",
            " [ 0.  0.  2.]\n",
            " [-2.  2.  2.]\n",
            " [-1. -1.  2.]\n",
            " [-4.  2.  2.]]\n"
          ],
          "name": "stdout"
        }
      ]
    },
    {
      "cell_type": "markdown",
      "metadata": {
        "id": "QsqNWz2LqCX1"
      },
      "source": [
        "Load test data"
      ]
    },
    {
      "cell_type": "code",
      "metadata": {
        "colab": {
          "base_uri": "https://localhost:8080/"
        },
        "id": "8hRM3PQxDwry",
        "outputId": "8b28e9bb-d6f7-49a5-8739-dc8f739bc281"
      },
      "source": [
        "test_data=np.loadtxt(\"/content/drive/MyDrive/CSE4214/Assignment1/test.txt\")\n",
        "print(test_data)"
      ],
      "execution_count": 132,
      "outputs": [
        {
          "output_type": "stream",
          "text": [
            "[[-1. -5.  1.]\n",
            " [ 3.  2.  1.]\n",
            " [-2.  1.  2.]\n",
            " [ 8.  2.  1.]\n",
            " [ 6. -1.  1.]\n",
            " [ 0.  2.  1.]\n",
            " [-3.  0.  2.]]\n"
          ],
          "name": "stdout"
        }
      ]
    },
    {
      "cell_type": "markdown",
      "metadata": {
        "id": "za0Racj_qWud"
      },
      "source": [
        "Task-1"
      ]
    },
    {
      "cell_type": "code",
      "metadata": {
        "id": "u8Bc3TGeD92p"
      },
      "source": [
        "#If 1 then let its  class A\n",
        "classA =[]\n",
        "for ar in train_data:\n",
        "    if ar[2] == 1:\n",
        "        classA.append([ar[0],ar[1]])"
      ],
      "execution_count": 133,
      "outputs": []
    },
    {
      "cell_type": "code",
      "metadata": {
        "id": "1c_uymB0d73M"
      },
      "source": [
        "#If 2 then let its  class B\n",
        "classB =[]\n",
        "for ar in train_data:\n",
        "    if ar[2] == 2:\n",
        "        classB.append([ar[0],ar[1]])"
      ],
      "execution_count": 134,
      "outputs": []
    },
    {
      "cell_type": "code",
      "metadata": {
        "colab": {
          "base_uri": "https://localhost:8080/"
        },
        "id": "TYBxnNzMgl0J",
        "outputId": "c72427a8-438e-4672-f392-89302555b7e2"
      },
      "source": [
        "#Separating test values and their class\n",
        "testValues =[]\n",
        "testClass =[]\n",
        "for ar in test_data:\n",
        "    testValues.append([ar[0],ar[1]])\n",
        "    testClass.append(ar[2])\n",
        "print('Value: ',testValues)\n",
        "print('Class: ',testClass)"
      ],
      "execution_count": 135,
      "outputs": [
        {
          "output_type": "stream",
          "text": [
            "Value:  [[-1.0, -5.0], [3.0, 2.0], [-2.0, 1.0], [8.0, 2.0], [6.0, -1.0], [0.0, 2.0], [-3.0, 0.0]]\n",
            "Class:  [1.0, 1.0, 2.0, 1.0, 1.0, 1.0, 2.0]\n"
          ],
          "name": "stdout"
        }
      ]
    },
    {
      "cell_type": "code",
      "metadata": {
        "colab": {
          "base_uri": "https://localhost:8080/"
        },
        "id": "OIarC7hmg_Gb",
        "outputId": "10c63d87-ecaf-4725-bf93-367716e35ae8"
      },
      "source": [
        "# list to np array\n",
        "classA = np.array(classA)\n",
        "classB = np.array(classB)\n",
        "testValues = np.array(testValues)\n",
        "testClass = np.array(testClass)\n",
        "print('testValues class type',type(testClass))"
      ],
      "execution_count": 136,
      "outputs": [
        {
          "output_type": "stream",
          "text": [
            "testValues class type <class 'numpy.ndarray'>\n"
          ],
          "name": "stdout"
        }
      ]
    },
    {
      "cell_type": "code",
      "metadata": {
        "colab": {
          "base_uri": "https://localhost:8080/",
          "height": 281
        },
        "id": "lku2hI1vhKSv",
        "outputId": "fa314e60-2bf0-4ef1-e63c-f508b5728360"
      },
      "source": [
        "fig,ax = plt.subplots()\n",
        "ax.set_title('Ploting Training Data for Task-1')\n",
        "fig.set_figheight(4)\n",
        "fig.set_figwidth(8)\n",
        "plt.ylim(-7,17)#limit the figure in x axis\n",
        "plt.xlim(-5,9)#limit the figure in y axis\n",
        "ax.scatter(classA[:,0],classA[:,1],marker='o',color='r',label='Train Class 1')\n",
        "ax.scatter(classB[:,0],classB[:,1],marker='*',color='k',label='Train Class 2')\n",
        "legend = ax.legend(loc='upper right', shadow=False, fontsize='small',labelspacing=1)\n",
        "legend.get_frame().set_facecolor('None')\n",
        "plt.show()"
      ],
      "execution_count": 137,
      "outputs": [
        {
          "output_type": "display_data",
          "data": {
            "image/png": "[encoded data removed]",
            "text/plain": [
              "<Figure size 576x288 with 1 Axes>"
            ]
          },
          "metadata": {
            "tags": [],
            "needs_background": "light"
          }
        }
      ]
    },
    {
      "cell_type": "markdown",
      "metadata": {
        "id": "E12Y8phzqmSN"
      },
      "source": [
        "Task-2"
      ]
    },
    {
      "cell_type": "code",
      "metadata": {
        "colab": {
          "base_uri": "https://localhost:8080/"
        },
        "id": "_FEkz6AziiEu",
        "outputId": "d5f17f70-6578-459d-e80f-a9e6d4b9f432"
      },
      "source": [
        "#mean of class a and class b\n",
        "meanClassA = np.mean(classA,axis = 0)\n",
        "meanClassB = np.mean(classB,axis = 0)\n",
        "print(meanClassA)\n",
        "print(meanClassB)"
      ],
      "execution_count": 138,
      "outputs": [
        {
          "output_type": "stream",
          "text": [
            "[1.5 0.5]\n",
            "[-1.5  2. ]\n"
          ],
          "name": "stdout"
        }
      ]
    },
    {
      "cell_type": "code",
      "metadata": {
        "id": "U61yIZn0jrfV"
      },
      "source": [
        "predictClassA = [0]*len(testValues)\n",
        "predictClassB = [0]*len(testValues)\n",
        "predictClass = [0]*len(testValues)\n",
        "tempValueClass = np.zeros((len(testValues),3))"
      ],
      "execution_count": 139,
      "outputs": []
    },
    {
      "cell_type": "code",
      "metadata": {
        "id": "KT15Df_llTBX"
      },
      "source": [
        "for i in range(len(testValues)):\n",
        "    predictClassA[i] = np.dot(np.transpose(meanClassA),testValues[i]-.5*np.dot(np.transpose(meanClassA),meanClassA))#g(x) function\n",
        "    predictClassB[i] = np.dot(np.transpose(meanClassB),testValues[i]-.5*np.dot(np.transpose(meanClassB),meanClassB))#g(x) function\n",
        "    if(predictClassA[i]>predictClassB[i]):\n",
        "        tempValueClass[i][0] = testValues[i][0]\n",
        "        tempValueClass[i][1] = testValues[i][1]\n",
        "        tempValueClass[i][2] = 1\n",
        "        predictClass[i] = 1\n",
        "    else:\n",
        "        tempValueClass[i][0] = testValues[i][0]\n",
        "        tempValueClass[i][1] = testValues[i][1]\n",
        "        tempValueClass[i][2] = 2\n",
        "        predictClass[i] = 2"
      ],
      "execution_count": 140,
      "outputs": []
    },
    {
      "cell_type": "code",
      "metadata": {
        "id": "DO4GL0V0lVHs"
      },
      "source": [
        "#let tempValueClass if 1 then its in class A\n",
        "classtestA =[]\n",
        "for ar in tempValueClass:\n",
        "    if ar[2] == 1:\n",
        "        classtestA.append([ar[0],ar[1]])"
      ],
      "execution_count": 143,
      "outputs": []
    },
    {
      "cell_type": "code",
      "metadata": {
        "id": "cHG6KI62lfnU"
      },
      "source": [
        "#let tempValueClass if 2 then its in class B\n",
        "classtestB =[]\n",
        "for a in tempValueClass:\n",
        "    if a[2] == 2:\n",
        "        classtestB.append([a[0],a[1]])"
      ],
      "execution_count": 144,
      "outputs": []
    },
    {
      "cell_type": "code",
      "metadata": {
        "id": "so9p1GH4ljrV"
      },
      "source": [
        "#convert the list in numpy array\n",
        "classtestA =np.array(classtestA)\n",
        "classtestB = np.array(classtestB)\n",
        "predictClass = np.array(predictionClass)"
      ],
      "execution_count": 145,
      "outputs": []
    },
    {
      "cell_type": "code",
      "metadata": {
        "colab": {
          "base_uri": "https://localhost:8080/",
          "height": 390
        },
        "id": "VXnODKD-ll_F",
        "outputId": "81a366f2-bd95-48ac-d84d-4cd9ede3a918"
      },
      "source": [
        "#plotting the meanclass,predicted class and training class\n",
        "fig, ax = plt.subplots()\n",
        "fig.set_figheight(6)\n",
        "fig.set_figwidth(12)\n",
        "plt.ylim(-7,17)#limit the figure in x axis\n",
        "plt.xlim(-5,9)#limit the figure in y axis\n",
        "ax.set_title('Ploting Data for Task-2')\n",
        "ax.scatter(classA[:,0],classA[:,1],marker='o',color='r',label='Train Class 1')\n",
        "ax.scatter(classB[:,0],classB[:,1],marker='*',color='k',label='Train Class 2')\n",
        "ax.scatter(meanClassA[0],meanClassA[1],marker='1',color='r',label='Mean Class 1')\n",
        "ax.scatter(meanClassB[0],meanClassB[1],marker='s',color='k',label='Mean Class 2')\n",
        "ax.scatter(classtestA[:,0],classtestA[:,1],marker='P',color='r',label='Test Class 1')\n",
        "ax.scatter(classtestB[:,0],classtestB[:,1],marker='X',color='k',label='Test Class 2')\n",
        "legend = ax.legend(loc='upper right', shadow=False, fontsize='small',labelspacing=0.5,ncol=3)\n",
        "legend.get_frame().set_facecolor('None')\n",
        "plt.show()"
      ],
      "execution_count": 146,
      "outputs": [
        {
          "output_type": "display_data",
          "data": {
            "image/png": "[encoded data removed]",
            "text/plain": [
              "<Figure size 864x432 with 1 Axes>"
            ]
          },
          "metadata": {
            "tags": [],
            "needs_background": "light"
          }
        }
      ]
    },
    {
      "cell_type": "markdown",
      "metadata": {
        "id": "MJYHhGGPqqpF"
      },
      "source": [
        "Task-3"
      ]
    },
    {
      "cell_type": "code",
      "metadata": {
        "id": "CAK7mHv6mPZV"
      },
      "source": [
        "X=[]\n",
        "Y=[]\n",
        "c=0\n",
        "for x in range(-4,8):\n",
        "    j=-((meanClassA[0]-meanClassB[0])*x-.5*np.dot(np.transpose(meanClassA),meanClassA)+\n",
        "        .5*np.dot(np.transpose(meanClassB),meanClassB))/(meanClassA[1]-meanClassB[1])\n",
        "    X.append(x)\n",
        "    Y.append(j)\n",
        "    c+=1    \n"
      ],
      "execution_count": 147,
      "outputs": []
    },
    {
      "cell_type": "code",
      "metadata": {
        "colab": {
          "base_uri": "https://localhost:8080/",
          "height": 444
        },
        "id": "kVHShPxbmq30",
        "outputId": "bc168820-f7cc-4947-8cad-a575dc1e8f19"
      },
      "source": [
        "fig, ax = plt.subplots()\n",
        "fig.set_figheight(7)\n",
        "fig.set_figwidth(10)\n",
        "plt.ylim(-7,17)#limit the figure in x axis\n",
        "plt.xlim(-5,9)#limit the figure in y axis\n",
        "ax.set_title('Ploting Data for Task-3')\n",
        "ax.plot(X,Y,\"--\",label=' Decision Boundary',color=\"r\")\n",
        "ax.scatter(classA[:,0],classA[:,1],marker='o',color='r',label='Train Class 1')\n",
        "ax.scatter(classB[:,0],classB[:,1],marker='*',color='k',label='Train Class 2')\n",
        "ax.scatter(meanClassA[0],meanClassA[1],marker='1',color='r',label='Mean Class 1')\n",
        "ax.scatter(meanClassB[0],meanClassB[1],marker='s',color='k',label='Mean Class 2')\n",
        "ax.scatter(classtestA[:,0],classtestA[:,1],marker='P',color='r',label='Test Class 1')\n",
        "ax.scatter(classtestB[:,0],classtestB[:,1],marker='X',color='k',label='Test Class 2')\n",
        "legend = ax.legend(loc='upper center', shadow=False, fontsize='small',labelspacing=0.5,ncol=3)\n",
        "legend.get_frame().set_facecolor('None')\n",
        "plt.show()"
      ],
      "execution_count": 148,
      "outputs": [
        {
          "output_type": "display_data",
          "data": {
            "image/png": "[encoded data removed]",
            "text/plain": [
              "<Figure size 720x504 with 1 Axes>"
            ]
          },
          "metadata": {
            "tags": [],
            "needs_background": "light"
          }
        }
      ]
    },
    {
      "cell_type": "markdown",
      "metadata": {
        "id": "AcmZRxS1q9Ju"
      },
      "source": [
        "Task-4"
      ]
    },
    {
      "cell_type": "code",
      "metadata": {
        "colab": {
          "base_uri": "https://localhost:8080/"
        },
        "id": "qeboYYj8nDxM",
        "outputId": "2b089aff-43c8-4195-c2ab-0f147f367a5e"
      },
      "source": [
        "Accuracy = 0\n",
        "for x,y in zip(testClass,predictClass):\n",
        "    if (x == y):\n",
        "        Accuracy +=1\n",
        "Accuracy = Accuracy/len(testClass)*100\n",
        "print('Accuracy = ', Accuracy,'%')"
      ],
      "execution_count": 149,
      "outputs": [
        {
          "output_type": "stream",
          "text": [
            "Accuracy =  85.71428571428571 %\n"
          ],
          "name": "stdout"
        }
      ]
    }
  ]
}